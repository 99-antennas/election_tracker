{
 "cells": [
  {
   "cell_type": "code",
   "execution_count": 3,
   "metadata": {},
   "outputs": [],
   "source": [
    "#re-imports modules that have changed\n",
    "%load_ext autoreload\n",
    "%autoreload 2"
   ]
  },
  {
   "cell_type": "code",
   "execution_count": 4,
   "metadata": {},
   "outputs": [],
   "source": [
    "import sys\n",
    "sys.path.append(\"../\")"
   ]
  },
  {
   "cell_type": "code",
   "execution_count": 5,
   "metadata": {},
   "outputs": [],
   "source": [
    "import os\n",
    "import logging\n",
    "import json\n",
    "import datetime as dt\n",
    "import time\n",
    "import pandas as pd\n",
    "from google.cloud import pubsub_v1\n",
    "\n",
    "from src.voter_info_fetcher import VoterInfo\n",
    "from src.utils_cloud_storage import CloudStorageClient"
   ]
  },
  {
   "cell_type": "code",
   "execution_count": 6,
   "metadata": {},
   "outputs": [],
   "source": [
    "logging.basicConfig(level=\"INFO\")"
   ]
  },
  {
   "cell_type": "code",
   "execution_count": 7,
   "metadata": {},
   "outputs": [],
   "source": [
    "# Constants"
   ]
  },
  {
   "cell_type": "code",
   "execution_count": 8,
   "metadata": {},
   "outputs": [],
   "source": [
    "# retrieve county level address data and set fips code as the identifer "
   ]
  },
  {
   "cell_type": "code",
   "execution_count": 9,
   "metadata": {},
   "outputs": [],
   "source": [
    "def run_voter_info(): \n",
    "    \n",
    "    \"\"\"\n",
    "    FULL PROCESS - NOTE THIS WILL FAIL 500 - SEE BELOW FOR UPDATED INDEPENDENT FUNCTIONS. \n",
    "    Cloud function to run job to fetch voter information data for current elections\n",
    "    from Google Civic Information API.\n",
    "    Retrieves county level data and sets the fips code as the identifier (`geo_id`)\n",
    "    Stores data in a cloud storage bucket as a json file.\n",
    "    \"\"\"\n",
    "    \n",
    "    # Job status\n",
    "    logging.info(\"Starting job fetch voter information\")\n",
    "    #logging.info(\"\"\"Trigger: messageId {} published at {}\"\"\".format(context.event_id, context.timestamp))\n",
    "    \n",
    "    # Initiate job\n",
    "    civic = VoterInfo() \n",
    "    \n",
    "    # Load elections, address data\n",
    "    logging.info(\"Load list of current elections.\")\n",
    "    elections = civic.load_current_elections(\"current_elections\",  \"current_elections.json\")\n",
    "    \n",
    "    logging.info(\"Load addreses by locale\")\n",
    "    locales = civic.load_address_locales(\"address_locales\",  \"addresses_county.csv\")\n",
    "    \n",
    "    # Retrieve Voter information data\n",
    "    for election in elections[0:2]:\n",
    "        election_id = election['id']\n",
    "        election_name = election['name']\n",
    "        election_ocdid = election['ocdDivisionId']\n",
    "        \n",
    "        # Get state abbr from OCDid\n",
    "        election_ocdid = election_ocdid.split(\"/\")[-1].split(\":\")[-1].upper()\n",
    "\n",
    "        logging.debug(f\"election_id: {election_id}\")\n",
    "        logging.debug(f\"election_ocdid: {election_ocdid}\")\n",
    "        logging.debug(f\"election_name: {election_name}\")\n",
    "        \n",
    "        # Subset data by OCDid\n",
    "        # Except test election \n",
    "        if election_name == 'VIP Test Election': \n",
    "            continue\n",
    "        # If election is national, return data for all records\n",
    "        elif election_ocdid == 'US':\n",
    "            active = locales.copy()\n",
    "        # If election is statewide, return data for all records in state. \n",
    "        else: \n",
    "            active = locales.loc[locales['state_abbr'] == election_ocdid, :].copy()\n",
    "        # Ensure active elections not null\n",
    "        try: \n",
    "            assert(active.empty == False)\n",
    "        except Exception as e: \n",
    "            logging.error(\"Unable to subset data by OCDid.\")\n",
    "    \n",
    "            # Get voter information for election\n",
    "        try: \n",
    "            logging.info(f\"Start election: {election_id}:{election_ocdid}\") \n",
    "            for index, row in active.iterrows():\n",
    "                address = row['address']\n",
    "                geo_id = row[\"fips\"]\n",
    "                response = civic.fetch_voter_info(address, election_id)\n",
    "                response['geoid'] = {\"fips\":geo_id}\n",
    "                civic.save_voter_info(geo_id, response, bucket_name=\"current_contests\")\n",
    "                time.sleep(1)\n",
    "            logging.debug(f\"Completed election: {election_id}:{election_ocdid}\")\n",
    "        except Exception as error: \n",
    "            logging.error(f\"Failed to retrieve data for {election_id}:{election_ocdid}\")\n",
    "            logging.error(error)\n",
    "\n",
    "    \n",
    "    # Job status\n",
    "    logging.info(\"Completed job fetch voter info.\")"
   ]
  },
  {
   "cell_type": "code",
   "execution_count": 11,
   "metadata": {},
   "outputs": [],
   "source": [
    "#run_voter_info()"
   ]
  },
  {
   "cell_type": "code",
   "execution_count": 12,
   "metadata": {},
   "outputs": [],
   "source": [
    "#len(active)"
   ]
  },
  {
   "cell_type": "code",
   "execution_count": 13,
   "metadata": {},
   "outputs": [],
   "source": [
    "#election_id"
   ]
  },
  {
   "cell_type": "code",
   "execution_count": 14,
   "metadata": {},
   "outputs": [],
   "source": [
    "#active.head(3)"
   ]
  },
  {
   "cell_type": "code",
   "execution_count": 15,
   "metadata": {},
   "outputs": [
    {
     "name": "stderr",
     "output_type": "stream",
     "text": [
      "INFO:root:Load list of current elections.\n",
      "INFO:root:Successfully loaded current elections data.\n"
     ]
    }
   ],
   "source": [
    "# Initiate job\n",
    "civic = VoterInfo() \n",
    "    \n",
    "# Load elections, address data\n",
    "logging.info(\"Load list of current elections.\")\n",
    "elections = civic.load_current_elections(\"current_elections\",  \"current_elections.json\")"
   ]
  },
  {
   "cell_type": "code",
   "execution_count": 16,
   "metadata": {},
   "outputs": [
    {
     "name": "stdout",
     "output_type": "stream",
     "text": [
      "19\n"
     ]
    },
    {
     "data": {
      "text/plain": [
       "{'id': '4897',\n",
       " 'name': 'South Carolina Presidential Primary',\n",
       " 'electionDay': '2020-02-29',\n",
       " 'ocdDivisionId': 'ocd-division/country:us/state:sc'}"
      ]
     },
     "execution_count": 16,
     "metadata": {},
     "output_type": "execute_result"
    }
   ],
   "source": [
    "print(len(elections))\n",
    "election = elections[1]\n",
    "election"
   ]
  },
  {
   "cell_type": "code",
   "execution_count": 17,
   "metadata": {},
   "outputs": [],
   "source": [
    "def publish_active_elections():\n",
    "    \"\"\"\n",
    "    Publishes elections to Pub/Sub topic with an error handler.\n",
    "    Data included in attributes of messsage: \n",
    "            - election_id=election['id'],\n",
    "            - name=election['name'], \n",
    "            - electionDay=election['electionDay'],\n",
    "            - ocdDivisionId=election['ocdDivisionId']\n",
    "    \n",
    "    \"\"\"\n",
    "    def get_callback(f, data):\n",
    "        def callback(f):\n",
    "            try:\n",
    "                logging.info(f.result())\n",
    "                futures.pop(data)\n",
    "            except:  # noqa\n",
    "                logging.info(\"Please handle {} for {}.\".format(f.exception(), data))\n",
    "\n",
    "        return callback\n",
    "    \n",
    "    # Job status\n",
    "    logging.info(\"Starting job to publish elections.\")\n",
    "    #logging.info(\"\"\"Trigger: messageId {} published at {}\"\"\".format(context.event_id, context.timestamp))\n",
    "    \n",
    "    # Initiate job\n",
    "    civic = VoterInfo()\n",
    "    date = dt.datetime.now().date()\n",
    "    \n",
    "    # Load elections data\n",
    "    logging.info(\"Load list of current elections.\")\n",
    "    elections = civic.load_current_elections(\"current_elections\",  \"current_elections.json\")\n",
    "    \n",
    "    project_id = \"election-tracker-268319\"\n",
    "    topic_name = \"active-elections\"\n",
    "\n",
    "    publisher = pubsub_v1.PublisherClient()\n",
    "    topic_path = publisher.topic_path(project_id, topic_name)\n",
    "\n",
    "    futures = dict()\n",
    "    \n",
    "    for election in elections: \n",
    "        # Set message attributes \n",
    "        \n",
    "        data = str(election['id'])\n",
    "        \n",
    "        # When you publish a message, the client returns a future. Data must be a bytestring.\n",
    "        futures.update({data: None})\n",
    "        \n",
    "        future = publisher.publish(\n",
    "            topic_path, \n",
    "            data=data.encode(\"utf-8\"),\n",
    "            election_id=election['id'],\n",
    "            name=election['name'], \n",
    "            electionDay=election['electionDay'],\n",
    "            ocdDivisionId=election['ocdDivisionId']\n",
    "        )\n",
    "                                     \n",
    "        futures[data] = future\n",
    "        # Publish failures shall be handled in the callback function.\n",
    "        future.add_done_callback(get_callback(future, data))\n",
    "\n",
    "    # Wait for all the publish futures to resolve before exiting.\n",
    "    while futures:\n",
    "        time.sleep(5)\n",
    "\n",
    "    print(f\"Published active elections for current elections as of {str(date)}\")\n",
    "    "
   ]
  },
  {
   "cell_type": "code",
   "execution_count": 18,
   "metadata": {},
   "outputs": [
    {
     "name": "stderr",
     "output_type": "stream",
     "text": [
      "INFO:root:Starting job to publish elections.\n",
      "INFO:root:Load list of current elections.\n",
      "INFO:root:Successfully loaded current elections data.\n",
      "INFO:root:443459523184583\n",
      "INFO:root:443459523184584\n",
      "INFO:root:443459523184585\n",
      "INFO:root:443459523184586\n",
      "INFO:root:443459523184587\n",
      "INFO:root:443459523184588\n",
      "INFO:root:443459523184589\n",
      "INFO:root:443459523184590\n",
      "INFO:root:443459523184591\n",
      "INFO:root:443459523184592\n",
      "INFO:root:443459523184593\n",
      "INFO:root:443459523184594\n",
      "INFO:root:443459523184595\n",
      "INFO:root:443459523184596\n",
      "INFO:root:443459523184597\n",
      "INFO:root:443459523184598\n",
      "INFO:root:443459523184599\n",
      "INFO:root:443459523184600\n",
      "INFO:root:443459523184601\n"
     ]
    },
    {
     "name": "stdout",
     "output_type": "stream",
     "text": [
      "Published active elections for current elections as of 2020-02-24\n"
     ]
    }
   ],
   "source": [
    "publish_active_elections()"
   ]
  },
  {
   "cell_type": "code",
   "execution_count": 62,
   "metadata": {},
   "outputs": [],
   "source": [
    "def publish_active_divisions(event, context):\n",
    "    \"\"\"\n",
    "    Publishes parsed election data by division to a Pub/Sub topic with an error handler.\n",
    "    \n",
    "    For each division associated with an election, message includes: \n",
    "        - election_id=election_id, # As returned by Civic Information API \n",
    "        - address=address, # Address of geo division associated with election parsed from locales data.\n",
    "        - geo_id=geo_id # Fips code or similar geodivision identifier as parsed from locales data\n",
    "        \n",
    "    \"\"\"\n",
    "    \n",
    "    def get_callback(f, data):\n",
    "        def callback(f):\n",
    "            try:\n",
    "                logging.info(f.result())\n",
    "                futures.pop(data)\n",
    "            except:  # noqa\n",
    "                logging.info(\"Please handle {} for {}.\".format(f.exception(), data))\n",
    "\n",
    "        return callback\n",
    "    \n",
    "    # Job status\n",
    "    logging.info(\"Starting job to parse election.\")\n",
    "    logging.info(\"\"\"Trigger: messageId {} published at {}\"\"\".format(context.event_id, context.timestamp))\n",
    "    \n",
    "    # Initiate job\n",
    "    civic = VoterInfo() \n",
    "    \n",
    "    logging.info(\"Load addreses by locale\")\n",
    "    locales = civic.load_address_locales(\"address_locales\",  \"addresses_county.csv\")\n",
    "    \n",
    "    project_id = \"election-tracker-268319\"\n",
    "    topic_name = \"active-divisions\"\n",
    "\n",
    "    publisher = pubsub_v1.PublisherClient()\n",
    "    topic_path = publisher.topic_path(project_id, topic_name)\n",
    "\n",
    "    futures = dict()\n",
    "    \n",
    "    # Parse election \n",
    "    election = event['attributes']\n",
    "    election_id = election['election_id'] #renamed to avoid conflict\n",
    "    election_name = election['name']\n",
    "    election_ocdid = election['ocdDivisionId']\n",
    "\n",
    "    # Get state abbr from OCDid\n",
    "    election_ocdid = election_ocdid.split(\"/\")[-1].split(\":\")[-1].upper()\n",
    "\n",
    "    logging.debug(f\"election_id: {election_id}\")\n",
    "    logging.debug(f\"election_ocdid: {election_ocdid}\")\n",
    "    logging.debug(f\"election_name: {election_name}\")\n",
    "\n",
    "    # Subset data by OCDid\n",
    "    # Except test election \n",
    "    if election_name == 'VIP Test Election':\n",
    "        logging.debug(\"Election name 'VIP Test Election' excluded.\")\n",
    "        return\n",
    "    # If election is national, return data for all records\n",
    "    elif election_ocdid == 'US':\n",
    "        active = locales.copy()\n",
    "    # If election is statewide, return data for all records in state. \n",
    "    else: \n",
    "        active = locales.loc[locales['state_abbr'] == election_ocdid, :].copy()\n",
    "    # Ensure active elections not null\n",
    "    try: \n",
    "        assert(active.empty == False)\n",
    "    except Exception as e: \n",
    "        logging.error(\"Unable to subset data by OCDid.\")\n",
    "        raise\n",
    "\n",
    "    # publish active division\n",
    "    for index, row in active.iterrows():\n",
    "        data = str(row[\"fips\"])\n",
    "        \n",
    "        futures.update({data: None})\n",
    "\n",
    "        # When you publish a message, the client returns a future. Data must be a bytestring.\n",
    "        future = publisher.publish(\n",
    "            topic_path, \n",
    "            data=data.encode(\"utf-8\"),\n",
    "            election_id=election_id, \n",
    "            address=row['address'], \n",
    "            geo_id=str(row[\"fips\"])\n",
    "        )\n",
    "        futures[data] = future\n",
    "        # Publish failures shall be handled in the callback function.\n",
    "        future.add_done_callback(get_callback(future, data))\n",
    "\n",
    "    # Wait for all the publish futures to resolve before exiting.\n",
    "    while futures:\n",
    "        time.sleep(5)\n",
    "\n",
    "    logging.info(f\"Published active divisions for election {election_id}\")"
   ]
  },
  {
   "cell_type": "code",
   "execution_count": 63,
   "metadata": {},
   "outputs": [],
   "source": [
    "from google.cloud import pubsub\n",
    "subscriber = pubsub.SubscriberClient()\n",
    "# Substitute PROJECT, SUBSCRIPTION, and TOPIC with appropriate values for\n",
    "# your application.\n",
    "\n",
    "\n",
    "sub_path = subscriber.subscription_path(\"election-tracker-268319\", 'test_elections')\n",
    "topic_path = subscriber.topic_path(\"election-tracker-268319\", 'active-elections')\n",
    "#subscriber.create_subscription(sub_path, topic_path)"
   ]
  },
  {
   "cell_type": "code",
   "execution_count": 64,
   "metadata": {},
   "outputs": [
    {
     "name": "stdout",
     "output_type": "stream",
     "text": [
      "Received message: b'4900'\n",
      "Received message: b'4901'\n",
      "Received message: b'4904'\n",
      "Received message: b'4907'\n",
      "Received message: b'4908'\n"
     ]
    }
   ],
   "source": [
    "# Substitute PROJECT and SUBSCRIPTION with appropriate values for your\n",
    "# application.\n",
    "subscription_path = subscriber.subscription_path(\"election-tracker-268319\", 'test_elections')\n",
    "response = subscriber.pull(subscription_path, max_messages=5)\n",
    "\n",
    "for msg in response.received_messages:\n",
    "    print(\"Received message:\", msg.message.data)\n",
    "\n",
    "ack_ids = [msg.ack_id for msg in response.received_messages]\n",
    "subscriber.acknowledge(subscription_path, ack_ids)"
   ]
  },
  {
   "cell_type": "code",
   "execution_count": 65,
   "metadata": {},
   "outputs": [],
   "source": [
    "class Context(): \n",
    "    def __init__(self):\n",
    "        self.event_id = '1234'\n",
    "        self.timestamp = 'somedatetime'"
   ]
  },
  {
   "cell_type": "code",
   "execution_count": 66,
   "metadata": {},
   "outputs": [],
   "source": [
    "context = Context()\n",
    "context.event_id\n",
    "\n",
    "event = {}\n",
    "event['data'] = 'some message'\n",
    "event['attributes'] = msg.message.attributes"
   ]
  },
  {
   "cell_type": "code",
   "execution_count": 71,
   "metadata": {},
   "outputs": [
    {
     "name": "stdout",
     "output_type": "stream",
     "text": [
      "True\n"
     ]
    }
   ],
   "source": [
    "if 'attributes' in event: \n",
    "    print(True)"
   ]
  },
  {
   "cell_type": "code",
   "execution_count": 70,
   "metadata": {},
   "outputs": [
    {
     "name": "stderr",
     "output_type": "stream",
     "text": [
      "INFO:root:{'data': 'some message', 'attributes': {'electionDay': '2020-03-03', 'name': 'Oklahoma Presidential Primary Election', 'ocdDivisionId': 'ocd-division/country:us/state:ok', 'election_id': '4908'}}\n"
     ]
    }
   ],
   "source": [
    "logging.info(f\"{str(event)}\")"
   ]
  },
  {
   "cell_type": "code",
   "execution_count": 67,
   "metadata": {},
   "outputs": [
    {
     "name": "stderr",
     "output_type": "stream",
     "text": [
      "INFO:root:Starting job to parse election.\n",
      "INFO:root:Trigger: messageId 1234 published at somedatetime\n",
      "INFO:root:Load addreses by locale\n",
      "INFO:root:Successfully loaded address lookup data.\n",
      "INFO:root:443460995406875\n",
      "INFO:root:443460995406876\n",
      "INFO:root:443461061823569\n",
      "INFO:root:443460995406877\n",
      "INFO:root:443461061823570\n",
      "INFO:root:443460995406878\n",
      "INFO:root:443461061823571\n",
      "INFO:root:443460995406879\n",
      "INFO:root:443461061823572\n",
      "INFO:root:443460995406880\n",
      "INFO:root:443461061823573\n",
      "INFO:root:443460995406881\n",
      "INFO:root:443461061823574\n",
      "INFO:root:443460995406882\n",
      "INFO:root:443461061823575\n",
      "INFO:root:443460995406883\n",
      "INFO:root:443461061823576\n",
      "INFO:root:443460995406884\n",
      "INFO:root:443461061823577\n",
      "INFO:root:443461061823578\n",
      "INFO:root:443460995406885\n",
      "INFO:root:443461061823579\n",
      "INFO:root:443460995406886\n",
      "INFO:root:443461061823580\n",
      "INFO:root:443461061823581\n",
      "INFO:root:443461061823582\n",
      "INFO:root:443461061823583\n",
      "INFO:root:443461061823584\n",
      "INFO:root:443461061823585\n",
      "INFO:root:443461061823586\n",
      "INFO:root:443461061823587\n",
      "INFO:root:443461061823588\n",
      "INFO:root:443461061823589\n",
      "INFO:root:443461061823590\n",
      "INFO:root:443461061823591\n",
      "INFO:root:443461061823592\n",
      "INFO:root:443461061823593\n",
      "INFO:root:443461061823594\n",
      "INFO:root:443461061823595\n",
      "INFO:root:443461061823596\n",
      "INFO:root:443461061823597\n",
      "INFO:root:443461061823598\n",
      "INFO:root:443461061823599\n",
      "INFO:root:443461061823600\n",
      "INFO:root:443461061823601\n",
      "INFO:root:443461061823602\n",
      "INFO:root:443461061823603\n",
      "INFO:root:443461061823604\n",
      "INFO:root:443461061823605\n",
      "INFO:root:443461061823606\n",
      "INFO:root:443461061823607\n",
      "INFO:root:443461061823608\n",
      "INFO:root:443461061823609\n",
      "INFO:root:443461061823610\n",
      "INFO:root:443461061823611\n",
      "INFO:root:443461061823612\n",
      "INFO:root:443461061823613\n",
      "INFO:root:443461061823614\n",
      "INFO:root:443461061823615\n",
      "INFO:root:443461061823616\n",
      "INFO:root:443461061823617\n",
      "INFO:root:443461061823618\n",
      "INFO:root:443461061823619\n",
      "INFO:root:443461061823620\n",
      "INFO:root:443461061823621\n",
      "INFO:root:443461061823622\n",
      "INFO:root:443461061823623\n",
      "INFO:root:443461061823624\n",
      "INFO:root:443461061823625\n",
      "INFO:root:443461061823626\n",
      "INFO:root:443461061823627\n",
      "INFO:root:443461061823628\n",
      "INFO:root:443461061823629\n",
      "INFO:root:443461061823630\n",
      "INFO:root:443461061823631\n",
      "INFO:root:443461061823632\n",
      "INFO:root:443461061823633\n",
      "INFO:root:Published active divisions for election 4908\n"
     ]
    }
   ],
   "source": [
    "publish_active_divisions(event, context)"
   ]
  },
  {
   "cell_type": "raw",
   "metadata": {},
   "source": [
    "from google.cloud import pubsub\n",
    "subscriber = pubsub.SubscriberClient()\n",
    "# Substitute PROJECT, SUBSCRIPTION, and TOPIC with appropriate values for\n",
    "# your application.\n",
    "\n",
    "sub_path = subscriber.subscription_path(\"election-tracker-268319\", 'test_divisions')\n",
    "topic_path = subscriber.topic_path(\"election-tracker-268319\", 'active-divisions')\n",
    "subscriber.create_subscription(sub_path, topic_path)"
   ]
  },
  {
   "cell_type": "code",
   "execution_count": 50,
   "metadata": {},
   "outputs": [
    {
     "name": "stdout",
     "output_type": "stream",
     "text": [
      "Received message: b'08011'\n",
      "Received message: b'08013'\n",
      "Received message: b'08014'\n",
      "Received message: b'08015'\n",
      "Received message: b'08017'\n"
     ]
    }
   ],
   "source": [
    "# Substitute PROJECT and SUBSCRIPTION with appropriate values for your\n",
    "# application.\n",
    "subscription_path = subscriber.subscription_path(\"election-tracker-268319\", 'test_divisions')\n",
    "response = subscriber.pull(subscription_path, max_messages=5)\n",
    "\n",
    "for msg in response.received_messages:\n",
    "    print(\"Received message:\", msg.message.data)\n",
    "\n",
    "ack_ids = [msg.ack_id for msg in response.received_messages]\n",
    "subscriber.acknowledge(subscription_path, ack_ids)"
   ]
  },
  {
   "cell_type": "code",
   "execution_count": 51,
   "metadata": {},
   "outputs": [
    {
     "data": {
      "text/plain": [
       "{'address': 'Co Rd 31, Cheyenne Wells, CO 80810, USA', 'geo_id': '08017', 'election_id': ''}"
      ]
     },
     "execution_count": 51,
     "metadata": {},
     "output_type": "execute_result"
    }
   ],
   "source": [
    "context = Context()\n",
    "context.event_id\n",
    "\n",
    "event = Event(msg.message.attributes)\n",
    "event.data"
   ]
  },
  {
   "cell_type": "code",
   "execution_count": 98,
   "metadata": {},
   "outputs": [],
   "source": [
    "# Def fetch election information\n",
    "def run_voter_info(event, context): \n",
    "    \"\"\"\n",
    "    Retrieves voter information from Google Civic API\n",
    "    Takes: \n",
    "        Data returned from the active-divisons topic message: \n",
    "        - election_id=election_id, # As returned by Civic Information API \n",
    "        - address=address, # Address of geo division associated with election parsed from locales data.\n",
    "        - geo_id=geo_id # Fips code or similar geodivision identifier as parsed from locales data\n",
    "    Makes the API Call \n",
    "    Saves the data to Google Cloud Storage\n",
    "    \"\"\"\n",
    "    \n",
    "    # Job status\n",
    "    logging.info(\"Starting job to fetch voter information.\")\n",
    "    logging.info(\"\"\"Trigger: messageId {} published at {}\"\"\".format(context.event_id, context.timestamp))\n",
    "    \n",
    "    division = event.data\n",
    "    address = division['address']\n",
    "    geo_id = division['geo_id']\n",
    "    election_id = division['election_id']\n",
    "    \n",
    "    civic = VoterInfo() \n",
    "    \n",
    "    try: \n",
    "        logging.info(f\"Start VoterInfo call: {election_id}:{geo_id}\") \n",
    "        response = civic.fetch_voter_info(address, election_id)\n",
    "        response['geoid'] = {\"fips\":geo_id}\n",
    "        civic.save_voter_info(geo_id, response, bucket_name=\"current_contests\")\n",
    "        time.sleep(1)\n",
    "        logging.debug(f\"Completed VoterInfo call.\")\n",
    "    except Exception as error: \n",
    "        logging.error(f\"Failed to retrieve data for {election_id}:{geo_id}\")\n",
    "        logging.error(error)"
   ]
  },
  {
   "cell_type": "code",
   "execution_count": 99,
   "metadata": {},
   "outputs": [
    {
     "name": "stderr",
     "output_type": "stream",
     "text": [
      "INFO:root:Start VoterInfo call: 4939:44009\n",
      "ERROR:root:Successfully saved data for 44009 to: gs://current_contests/44009_2020-02-21.json\n"
     ]
    }
   ],
   "source": [
    "run_voter_info(division)"
   ]
  },
  {
   "cell_type": "code",
   "execution_count": null,
   "metadata": {},
   "outputs": [],
   "source": []
  }
 ],
 "metadata": {
  "kernelspec": {
   "display_name": "Python 3",
   "language": "python",
   "name": "python3"
  },
  "language_info": {
   "codemirror_mode": {
    "name": "ipython",
    "version": 3
   },
   "file_extension": ".py",
   "mimetype": "text/x-python",
   "name": "python",
   "nbconvert_exporter": "python",
   "pygments_lexer": "ipython3",
   "version": "3.7.3"
  }
 },
 "nbformat": 4,
 "nbformat_minor": 4
}
