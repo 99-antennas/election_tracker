{
 "cells": [
  {
   "cell_type": "code",
   "execution_count": 1,
   "metadata": {},
   "outputs": [],
   "source": [
    "#re-imports modules that have changed\n",
    "%load_ext autoreload\n",
    "%autoreload 2"
   ]
  },
  {
   "cell_type": "code",
   "execution_count": 2,
   "metadata": {},
   "outputs": [],
   "source": [
    "import sys\n",
    "sys.path.append(\"../\")"
   ]
  },
  {
   "cell_type": "code",
   "execution_count": 9,
   "metadata": {},
   "outputs": [],
   "source": [
    "import os\n",
    "import logging\n",
    "import json\n",
    "import datetime as dt\n",
    "import pandas as pd\n",
    "from src.candidate_fetcher import VoterInfo\n",
    "from src.utils import CloudStorageClient\n"
   ]
  },
  {
   "cell_type": "code",
   "execution_count": null,
   "metadata": {},
   "outputs": [],
   "source": [
    "# Constants"
   ]
  },
  {
   "cell_type": "code",
   "execution_count": 4,
   "metadata": {},
   "outputs": [],
   "source": [
    "TODAY = dt.datetime.now()"
   ]
  },
  {
   "cell_type": "code",
   "execution_count": 5,
   "metadata": {},
   "outputs": [],
   "source": [
    "path = \"/tmp/\"\n",
    "if not os.path.exists(path):\n",
    "    os.mkdir(path)"
   ]
  },
  {
   "cell_type": "code",
   "execution_count": 44,
   "metadata": {},
   "outputs": [],
   "source": [
    "# Load list of current elections \n",
    "bucket_name = \"current_elections\"\n",
    "blob_name = 'current_elections.json'\n",
    "filepath = path + blob_name\n",
    "client = CloudStorageClient()\n",
    " \n",
    "#load temp file to gcp  \n",
    "client.download_file(filepath, bucket_name, blob_name=blob_name)\n",
    "\n",
    "#load election json\n",
    "with open(filepath) as json_file:\n",
    "    data = json.load(json_file)"
   ]
  },
  {
   "cell_type": "code",
   "execution_count": 45,
   "metadata": {},
   "outputs": [],
   "source": [
    "try: \n",
    "    elections = data['elections']\n",
    "except KeyError as error: \n",
    "    logging.error(f\"There are no current elections stored in file: 'gs://' {bucket_name} + '/' + {blob_name}\")\n",
    "    raise\n",
    "except Exception as error: \n",
    "    logging.error(f\"Error loading current elections from file: 'gs://' {bucket_name} + '/' + {blob_name}\")\n",
    "    logging.error(error)\n",
    "    raise"
   ]
  },
  {
   "cell_type": "code",
   "execution_count": 46,
   "metadata": {},
   "outputs": [],
   "source": [
    "bucket_name = 'address_locales'\n",
    "blob_name = 'addresses_county.csv'\n",
    "filepath = path + blob_name\n",
    "\n",
    "#load temp file to gcp  \n",
    "client.download_file(filepath, bucket_name, blob_name=blob_name)\n",
    "\n",
    "#load address data\n",
    "with open(filepath, 'rb') as file:\n",
    "    data = pd.read_csv(filepath, encoding='utf-8')"
   ]
  },
  {
   "cell_type": "code",
   "execution_count": 54,
   "metadata": {},
   "outputs": [],
   "source": [
    "try: \n",
    "    #process data - ensure necessary columns available\n",
    "    addresses = data['address']\n",
    "    state_abbr = data['state_abbr']\n",
    "    data['fips'] = data['fips'].astype('str').str.zfill(5)\n",
    "except KeyError as error: \n",
    "    logging.error(f\"There are no current elections stored in file: 'gs://' {bucket_name} + '/' + {blob_name}\")\n",
    "    raise\n",
    "except Exception as error: \n",
    "    logging.error(f\"Error loading current elections from file: 'gs://' {bucket_name} + '/' + {blob_name}\")\n",
    "    logging.error(error)\n",
    "    raise"
   ]
  },
  {
   "cell_type": "code",
   "execution_count": null,
   "metadata": {},
   "outputs": [],
   "source": [
    "candidate_data = {}\n",
    "for election in elections:\n",
    "    civic = VoterInfo()\n",
    "    results = []\n",
    "    election_id = election['id']\n",
    "    election_name = election['name']\n",
    "    # Get state abbr from OCDid\n",
    "    election_ocdid = election['ocdDivisionId'].split(\"/\")[-1].split(\":\")[-1].upper()\n",
    "    election_date = election['electionDay']\n",
    "        \n",
    "    # Except test election \n",
    "    if election_name == 'VIP Test Election': \n",
    "        continue\n",
    "    elif election_ocdid == 'US': \n",
    "        print(\"True\")\n",
    "    else: \n",
    "        logging.info(f\"Retrieving election data for {election_id}:{election_ocdid}\")\n",
    "        active = data.loc[data['state_abbr'] == election_ocdid, :]\n",
    "        for index, row in active.iterrows():\n",
    "            address = row['address']\n",
    "            result = civic.fetch_voter_info(address, election_id)\n",
    "            results.append(result)\n",
    "    candidate_data[election_id] = results\n",
    "        "
   ]
  },
  {
   "cell_type": "code",
   "execution_count": 57,
   "metadata": {},
   "outputs": [
    {
     "data": {
      "text/html": [
       "<div>\n",
       "<style scoped>\n",
       "    .dataframe tbody tr th:only-of-type {\n",
       "        vertical-align: middle;\n",
       "    }\n",
       "\n",
       "    .dataframe tbody tr th {\n",
       "        vertical-align: top;\n",
       "    }\n",
       "\n",
       "    .dataframe thead th {\n",
       "        text-align: right;\n",
       "    }\n",
       "</style>\n",
       "<table border=\"1\" class=\"dataframe\">\n",
       "  <thead>\n",
       "    <tr style=\"text-align: right;\">\n",
       "      <th></th>\n",
       "      <th>state_abbr</th>\n",
       "      <th>fips</th>\n",
       "      <th>name</th>\n",
       "      <th>lat</th>\n",
       "      <th>long</th>\n",
       "      <th>addresses</th>\n",
       "      <th>address</th>\n",
       "      <th>result</th>\n",
       "    </tr>\n",
       "  </thead>\n",
       "  <tbody>\n",
       "    <tr>\n",
       "      <th>2311</th>\n",
       "      <td>RI</td>\n",
       "      <td>44001</td>\n",
       "      <td>Bristol County</td>\n",
       "      <td>41.705271</td>\n",
       "      <td>-71.285053</td>\n",
       "      <td>['25 Patricia Ann Dr, Bristol, RI 02809, USA',...</td>\n",
       "      <td>25 Patricia Ann Dr, Bristol, RI 02809, USA</td>\n",
       "      <td>{'kind': 'civicinfo#voterInfoResponse', 'norma...</td>\n",
       "    </tr>\n",
       "    <tr>\n",
       "      <th>2312</th>\n",
       "      <td>RI</td>\n",
       "      <td>44003</td>\n",
       "      <td>Kent County</td>\n",
       "      <td>41.677750</td>\n",
       "      <td>-71.576314</td>\n",
       "      <td>['1012 Tiogue Ave, Coventry, RI 02816, USA', '...</td>\n",
       "      <td>1012 Tiogue Ave, Coventry, RI 02816, USA</td>\n",
       "      <td>{'kind': 'civicinfo#voterInfoResponse', 'norma...</td>\n",
       "    </tr>\n",
       "    <tr>\n",
       "      <th>2313</th>\n",
       "      <td>RI</td>\n",
       "      <td>44005</td>\n",
       "      <td>Newport County</td>\n",
       "      <td>41.502732</td>\n",
       "      <td>-71.284063</td>\n",
       "      <td>['127 Johnny Cake Hill, Middletown, RI 02842, ...</td>\n",
       "      <td>127 Johnny Cake Hill, Middletown, RI 02842, USA</td>\n",
       "      <td>{'kind': 'civicinfo#voterInfoResponse', 'norma...</td>\n",
       "    </tr>\n",
       "    <tr>\n",
       "      <th>2314</th>\n",
       "      <td>RI</td>\n",
       "      <td>44007</td>\n",
       "      <td>Providence County</td>\n",
       "      <td>41.870488</td>\n",
       "      <td>-71.578242</td>\n",
       "      <td>['66 W Greenville Rd, Greenville, RI 02828, US...</td>\n",
       "      <td>66 W Greenville Rd, Greenville, RI 02828, USA</td>\n",
       "      <td>{'kind': 'civicinfo#voterInfoResponse', 'norma...</td>\n",
       "    </tr>\n",
       "    <tr>\n",
       "      <th>2315</th>\n",
       "      <td>RI</td>\n",
       "      <td>44009</td>\n",
       "      <td>Washington County</td>\n",
       "      <td>41.401162</td>\n",
       "      <td>-71.617612</td>\n",
       "      <td>['79 Cherokee Bend, Charlestown, RI 02813, USA...</td>\n",
       "      <td>79 Cherokee Bend, Charlestown, RI 02813, USA</td>\n",
       "      <td>{'kind': 'civicinfo#voterInfoResponse', 'norma...</td>\n",
       "    </tr>\n",
       "  </tbody>\n",
       "</table>\n",
       "</div>"
      ],
      "text/plain": [
       "     state_abbr   fips               name        lat       long  \\\n",
       "2311         RI  44001     Bristol County  41.705271 -71.285053   \n",
       "2312         RI  44003        Kent County  41.677750 -71.576314   \n",
       "2313         RI  44005     Newport County  41.502732 -71.284063   \n",
       "2314         RI  44007  Providence County  41.870488 -71.578242   \n",
       "2315         RI  44009  Washington County  41.401162 -71.617612   \n",
       "\n",
       "                                              addresses  \\\n",
       "2311  ['25 Patricia Ann Dr, Bristol, RI 02809, USA',...   \n",
       "2312  ['1012 Tiogue Ave, Coventry, RI 02816, USA', '...   \n",
       "2313  ['127 Johnny Cake Hill, Middletown, RI 02842, ...   \n",
       "2314  ['66 W Greenville Rd, Greenville, RI 02828, US...   \n",
       "2315  ['79 Cherokee Bend, Charlestown, RI 02813, USA...   \n",
       "\n",
       "                                              address  \\\n",
       "2311       25 Patricia Ann Dr, Bristol, RI 02809, USA   \n",
       "2312         1012 Tiogue Ave, Coventry, RI 02816, USA   \n",
       "2313  127 Johnny Cake Hill, Middletown, RI 02842, USA   \n",
       "2314    66 W Greenville Rd, Greenville, RI 02828, USA   \n",
       "2315     79 Cherokee Bend, Charlestown, RI 02813, USA   \n",
       "\n",
       "                                                 result  \n",
       "2311  {'kind': 'civicinfo#voterInfoResponse', 'norma...  \n",
       "2312  {'kind': 'civicinfo#voterInfoResponse', 'norma...  \n",
       "2313  {'kind': 'civicinfo#voterInfoResponse', 'norma...  \n",
       "2314  {'kind': 'civicinfo#voterInfoResponse', 'norma...  \n",
       "2315  {'kind': 'civicinfo#voterInfoResponse', 'norma...  "
      ]
     },
     "execution_count": 57,
     "metadata": {},
     "output_type": "execute_result"
    }
   ],
   "source": [
    "candidate_data"
   ]
  },
  {
   "cell_type": "code",
   "execution_count": null,
   "metadata": {},
   "outputs": [],
   "source": [
    "END HERE"
   ]
  },
  {
   "cell_type": "code",
   "execution_count": null,
   "metadata": {},
   "outputs": [],
   "source": [
    "path = \"/tmp/\"\n",
    "if not os.path.exists(path):\n",
    "    os.mkdir(path)"
   ]
  },
  {
   "cell_type": "code",
   "execution_count": null,
   "metadata": {},
   "outputs": [],
   "source": [
    "filepath = path + 'data.json'\n",
    "if data: \n",
    "    #store as temp file\n",
    "    try: \n",
    "        with open(filepath, 'w', encoding='utf-8') as file:\n",
    "            json.dump(data, file, ensure_ascii=False, indent=4)\n",
    "        logging.info(f\"Data saved to '{filepath}''\")\n",
    "    except Exception as e: \n",
    "        logging.error(e)"
   ]
  },
  {
   "cell_type": "code",
   "execution_count": null,
   "metadata": {},
   "outputs": [],
   "source": [
    "client = CloudStorageClient()\n",
    "bucket_name = \"current_elections\"\n",
    " #load temp file to gcp as \"current_elections.json\"\n",
    "client.upload_file(filepath, bucket_name, blob_name='current_elections.json')\n",
    " #load temp file to gcp by date\n",
    "client.upload_file(filepath, bucket_name, blob_name=f'{TODAY}.json')"
   ]
  },
  {
   "cell_type": "code",
   "execution_count": 3,
   "metadata": {},
   "outputs": [
    {
     "name": "stdout",
     "output_type": "stream",
     "text": [
      "{'kind': 'civicinfo#electionsQueryResponse', 'elections': [{'id': '2000', 'name': 'VIP Test Election', 'electionDay': '2021-06-06', 'ocdDivisionId': 'ocd-division/country:us'}, {'id': '4896', 'name': 'Wisconsin State Primary Election', 'electionDay': '2020-02-18', 'ocdDivisionId': 'ocd-division/country:us/state:wi'}, {'id': '4897', 'name': 'South Carolina Presidential Primary', 'electionDay': '2020-02-29', 'ocdDivisionId': 'ocd-division/country:us/state:sc'}, {'id': '4898', 'name': 'Alabama Presidential and State Primary Election', 'electionDay': '2020-03-03', 'ocdDivisionId': 'ocd-division/country:us/state:al'}, {'id': '4899', 'name': 'Arkansas Presidential Primary Election', 'electionDay': '2020-03-03', 'ocdDivisionId': 'ocd-division/country:us/state:ar'}, {'id': '4900', 'name': 'California Presidential Primary Election', 'electionDay': '2020-03-03', 'ocdDivisionId': 'ocd-division/country:us/state:ca'}, {'id': '4901', 'name': 'Colorado Presidential Primary Election', 'electionDay': '2020-03-03', 'ocdDivisionId': 'ocd-division/country:us/state:co'}, {'id': '4904', 'name': 'Minnesota Presidential Primary Election', 'electionDay': '2020-03-03', 'ocdDivisionId': 'ocd-division/country:us/state:mn'}, {'id': '4907', 'name': 'North Carolina Presidential and State Primary Election', 'electionDay': '2020-03-03', 'ocdDivisionId': 'ocd-division/country:us/state:nc'}, {'id': '4908', 'name': 'Oklahoma Presidential Primary Election', 'electionDay': '2020-03-03', 'ocdDivisionId': 'ocd-division/country:us/state:ok'}, {'id': '4910', 'name': 'Utah Presidential Primary Election', 'electionDay': '2020-03-03', 'ocdDivisionId': 'ocd-division/country:us/state:ut'}, {'id': '4912', 'name': 'Vermont Presidential Primary Election', 'electionDay': '2020-03-03', 'ocdDivisionId': 'ocd-division/country:us/state:vt'}, {'id': '4914', 'name': 'Michigan Presidential Primary Election', 'electionDay': '2020-03-10', 'ocdDivisionId': 'ocd-division/country:us/state:mi'}, {'id': '4924', 'name': 'Illinois Presidential and State Primary Election', 'electionDay': '2020-03-17', 'ocdDivisionId': 'ocd-division/country:us/state:il'}, {'id': '4930', 'name': 'Louisiana Presidential Primary Election', 'electionDay': '2020-04-04', 'ocdDivisionId': 'ocd-division/country:us/state:la'}, {'id': '4939', 'name': 'Rhode Island House District 56 Special Election', 'electionDay': '2020-03-03', 'ocdDivisionId': 'ocd-division/country:us/state:ri'}, {'id': '4980', 'name': 'Rhode Island Providence Ward 1 Special Election', 'electionDay': '2020-04-07', 'ocdDivisionId': 'ocd-division/country:us/state:ri'}, {'id': '4981', 'name': 'Rhode Island Providence Ward 1 Special Primary Election', 'electionDay': '2020-03-03', 'ocdDivisionId': 'ocd-division/country:us/state:ri'}]}\n"
     ]
    }
   ],
   "source": [
    "# Test main\n",
    "from main import run_current_elections\n",
    "run_current_elections()"
   ]
  },
  {
   "cell_type": "code",
   "execution_count": null,
   "metadata": {},
   "outputs": [],
   "source": []
  }
 ],
 "metadata": {
  "kernelspec": {
   "display_name": "Python 3",
   "language": "python",
   "name": "python3"
  },
  "language_info": {
   "codemirror_mode": {
    "name": "ipython",
    "version": 3
   },
   "file_extension": ".py",
   "mimetype": "text/x-python",
   "name": "python",
   "nbconvert_exporter": "python",
   "pygments_lexer": "ipython3",
   "version": "3.7.3"
  }
 },
 "nbformat": 4,
 "nbformat_minor": 4
}
