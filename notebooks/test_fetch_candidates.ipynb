{
 "cells": [
  {
   "cell_type": "code",
   "execution_count": 1,
   "metadata": {},
   "outputs": [],
   "source": [
    "#re-imports modules that have changed\n",
    "%load_ext autoreload\n",
    "%autoreload 2"
   ]
  },
  {
   "cell_type": "code",
   "execution_count": 2,
   "metadata": {},
   "outputs": [],
   "source": [
    "import sys\n",
    "sys.path.append(\"../\")"
   ]
  },
  {
   "cell_type": "code",
   "execution_count": 73,
   "metadata": {},
   "outputs": [],
   "source": [
    "import os\n",
    "import logging\n",
    "import json\n",
    "import datetime as dt\n",
    "import time\n",
    "import pandas as pd\n",
    "from src.candidate_fetcher import VoterInfo\n",
    "from src.utils import CloudStorageClient"
   ]
  },
  {
   "cell_type": "code",
   "execution_count": 4,
   "metadata": {},
   "outputs": [],
   "source": [
    "logging.basicConfig(level=\"INFO\")"
   ]
  },
  {
   "cell_type": "code",
   "execution_count": 6,
   "metadata": {},
   "outputs": [],
   "source": [
    "# Constants"
   ]
  },
  {
   "cell_type": "code",
   "execution_count": 30,
   "metadata": {},
   "outputs": [],
   "source": [
    "# retrieve county level address data and set fips code as the identifer "
   ]
  },
  {
   "cell_type": "code",
   "execution_count": 71,
   "metadata": {},
   "outputs": [],
   "source": [
    "def run_voter_info(): \n",
    "    \n",
    "    \"\"\"\n",
    "    Cloud function to run job to fetch voter information data for current elections\n",
    "    from Google Civic Information API.\n",
    "    Retrieves county level data and sets the fips code as the identifier (`geo_id`)\n",
    "    Stores data in a cloud storage bucket as a json file.\n",
    "    \"\"\"\n",
    "    \n",
    "    # Job status\n",
    "    logging.info(\"Starting job fetch voter information\")\n",
    "    #logging.info(\"\"\"Trigger: messageId {} published at {}\"\"\".format(context.event_id, context.timestamp))\n",
    "    \n",
    "    # Initiate job\n",
    "    civic = VoterInfo() \n",
    "    \n",
    "    # Load elections, address data\n",
    "    logging.info(\"Load list of current elections.\")\n",
    "    elections = civic.load_current_elections(\"current_elections\",  \"current_elections.json\")\n",
    "    \n",
    "    logging.info(\"Load addreses by locale\")\n",
    "    locales = civic.load_address_locales(\"address_locales\",  \"addresses_county.csv\")\n",
    "    \n",
    "    # Retrieve Voter information data\n",
    "    for election in elections[0:2]:\n",
    "        election_id = election['id']\n",
    "        election_name = election['name']\n",
    "        election_ocdid = election['ocdDivisionId']\n",
    "        \n",
    "        # Get state abbr from OCDid\n",
    "        election_ocdid = election_ocdid.split(\"/\")[-1].split(\":\")[-1].upper()\n",
    "\n",
    "        logging.debug(f\"election_id: {election_id}\")\n",
    "        logging.debug(f\"election_ocdid: {election_ocdid}\")\n",
    "        logging.debug(f\"election_name: {election_name}\")\n",
    "        \n",
    "        # Subset data by OCDid\n",
    "        # Except test election \n",
    "        if election_name == 'VIP Test Election': \n",
    "            continue\n",
    "        # If election is national, return data for all records\n",
    "        elif election_ocdid == 'US':\n",
    "            active = locales.copy()\n",
    "        # If election is statewide, return data for all records in state. \n",
    "        else: \n",
    "            active = locales.loc[locales['state_abbr'] == election_ocdid, :].copy()\n",
    "        # Ensure active elections not null\n",
    "        try: \n",
    "            assert(active.empty == False)\n",
    "        except Exception as e: \n",
    "            logging.error(\"Unable to subset data by OCDid.\")\n",
    "    \n",
    "        # Get voter information for election\n",
    "        try: \n",
    "            logging.info(f\"Start election: {election_id}:{election_ocdid}\") \n",
    "            for index, row in active.iterrows():\n",
    "                address = row['address']\n",
    "                geo_id = row[\"fips\"]\n",
    "                response = civic.fetch_voter_info(address, election_id)\n",
    "                response['geoid'] = {\"fips\":geo_id}\n",
    "                civic.save_voter_info(geo_id, response, bucket_name=\"current_contests\")\n",
    "                time.sleep(1)\n",
    "            logging.debug(f\"Completed election: {election_id}:{election_ocdid}\")\n",
    "        except Exception as error: \n",
    "            logging.error(f\"Failed to retrieve data for {election_id}:{election_ocdid}\")\n",
    "            logging.error(error)\n",
    "    \n",
    "    # Job status\n",
    "    logging.info(\"Completed job fetch voter info.\")"
   ]
  },
  {
   "cell_type": "code",
   "execution_count": 74,
   "metadata": {},
   "outputs": [
    {
     "name": "stderr",
     "output_type": "stream",
     "text": [
      "INFO:root:Starting job fetch voter information\n",
      "INFO:root:Load list of current elections.\n",
      "INFO:root:Successfully loaded current elections data.\n",
      "INFO:root:Load addreses by locale\n",
      "INFO:root:Successfully loaded address lookup data.\n",
      "INFO:root:Start election: 4897:SC\n",
      "ERROR:root:Successfully saved data for 45001 to: gs://current_contests/45001_2020-02-20.json\n",
      "ERROR:root:Successfully saved data for 45003 to: gs://current_contests/45003_2020-02-20.json\n",
      "ERROR:root:Successfully saved data for 45005 to: gs://current_contests/45005_2020-02-20.json\n",
      "ERROR:root:Successfully saved data for 45007 to: gs://current_contests/45007_2020-02-20.json\n",
      "ERROR:root:Successfully saved data for 45009 to: gs://current_contests/45009_2020-02-20.json\n",
      "ERROR:root:Successfully saved data for 45011 to: gs://current_contests/45011_2020-02-20.json\n",
      "ERROR:root:Successfully saved data for 45013 to: gs://current_contests/45013_2020-02-20.json\n",
      "ERROR:root:Successfully saved data for 45015 to: gs://current_contests/45015_2020-02-20.json\n",
      "ERROR:root:Successfully saved data for 45017 to: gs://current_contests/45017_2020-02-20.json\n",
      "ERROR:root:Successfully saved data for 45019 to: gs://current_contests/45019_2020-02-20.json\n",
      "ERROR:root:Successfully saved data for 45021 to: gs://current_contests/45021_2020-02-20.json\n",
      "ERROR:root:Successfully saved data for 45023 to: gs://current_contests/45023_2020-02-20.json\n",
      "ERROR:root:Successfully saved data for 45025 to: gs://current_contests/45025_2020-02-20.json\n",
      "ERROR:root:Successfully saved data for 45027 to: gs://current_contests/45027_2020-02-20.json\n",
      "ERROR:root:Successfully saved data for 45029 to: gs://current_contests/45029_2020-02-20.json\n",
      "ERROR:root:Successfully saved data for 45031 to: gs://current_contests/45031_2020-02-20.json\n",
      "ERROR:root:Successfully saved data for 45033 to: gs://current_contests/45033_2020-02-20.json\n",
      "ERROR:root:Successfully saved data for 45035 to: gs://current_contests/45035_2020-02-20.json\n",
      "ERROR:root:Successfully saved data for 45037 to: gs://current_contests/45037_2020-02-20.json\n",
      "ERROR:root:Successfully saved data for 45039 to: gs://current_contests/45039_2020-02-20.json\n",
      "ERROR:root:Successfully saved data for 45041 to: gs://current_contests/45041_2020-02-20.json\n",
      "ERROR:root:Successfully saved data for 45043 to: gs://current_contests/45043_2020-02-20.json\n",
      "ERROR:root:Successfully saved data for 45045 to: gs://current_contests/45045_2020-02-20.json\n",
      "ERROR:root:Successfully saved data for 45047 to: gs://current_contests/45047_2020-02-20.json\n",
      "ERROR:root:Successfully saved data for 45049 to: gs://current_contests/45049_2020-02-20.json\n",
      "ERROR:root:Successfully saved data for 45051 to: gs://current_contests/45051_2020-02-20.json\n",
      "ERROR:root:Successfully saved data for 45053 to: gs://current_contests/45053_2020-02-20.json\n",
      "ERROR:root:Successfully saved data for 45055 to: gs://current_contests/45055_2020-02-20.json\n",
      "ERROR:root:Successfully saved data for 45057 to: gs://current_contests/45057_2020-02-20.json\n",
      "ERROR:root:Successfully saved data for 45059 to: gs://current_contests/45059_2020-02-20.json\n",
      "ERROR:root:Successfully saved data for 45061 to: gs://current_contests/45061_2020-02-20.json\n",
      "ERROR:root:Successfully saved data for 45063 to: gs://current_contests/45063_2020-02-20.json\n",
      "ERROR:root:Successfully saved data for 45065 to: gs://current_contests/45065_2020-02-20.json\n",
      "ERROR:root:Successfully saved data for 45067 to: gs://current_contests/45067_2020-02-20.json\n",
      "ERROR:root:Successfully saved data for 45069 to: gs://current_contests/45069_2020-02-20.json\n",
      "ERROR:root:Successfully saved data for 45071 to: gs://current_contests/45071_2020-02-20.json\n",
      "ERROR:root:Successfully saved data for 45073 to: gs://current_contests/45073_2020-02-20.json\n",
      "ERROR:root:Successfully saved data for 45075 to: gs://current_contests/45075_2020-02-20.json\n",
      "ERROR:root:Successfully saved data for 45077 to: gs://current_contests/45077_2020-02-20.json\n",
      "ERROR:root:Successfully saved data for 45079 to: gs://current_contests/45079_2020-02-20.json\n",
      "ERROR:root:Successfully saved data for 45081 to: gs://current_contests/45081_2020-02-20.json\n",
      "ERROR:root:Successfully saved data for 45083 to: gs://current_contests/45083_2020-02-20.json\n",
      "ERROR:root:Successfully saved data for 45085 to: gs://current_contests/45085_2020-02-20.json\n",
      "ERROR:root:Successfully saved data for 45087 to: gs://current_contests/45087_2020-02-20.json\n",
      "ERROR:root:Successfully saved data for 45089 to: gs://current_contests/45089_2020-02-20.json\n",
      "ERROR:root:Successfully saved data for 45091 to: gs://current_contests/45091_2020-02-20.json\n",
      "INFO:root:Completed job fetch voter info.\n"
     ]
    }
   ],
   "source": [
    "run_voter_info()"
   ]
  },
  {
   "cell_type": "code",
   "execution_count": null,
   "metadata": {},
   "outputs": [],
   "source": []
  }
 ],
 "metadata": {
  "kernelspec": {
   "display_name": "Python 3",
   "language": "python",
   "name": "python3"
  },
  "language_info": {
   "codemirror_mode": {
    "name": "ipython",
    "version": 3
   },
   "file_extension": ".py",
   "mimetype": "text/x-python",
   "name": "python",
   "nbconvert_exporter": "python",
   "pygments_lexer": "ipython3",
   "version": "3.7.3"
  }
 },
 "nbformat": 4,
 "nbformat_minor": 4
}
