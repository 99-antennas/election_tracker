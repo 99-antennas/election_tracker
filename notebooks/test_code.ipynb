{
 "cells": [
  {
   "cell_type": "code",
   "execution_count": null,
   "metadata": {},
   "outputs": [],
   "source": [
    "#re-imports modules that have changed\n",
    "%load_ext autoreload\n",
    "%autoreload 2"
   ]
  },
  {
   "cell_type": "code",
   "execution_count": 2,
   "metadata": {},
   "outputs": [],
   "source": [
    "import sys\n",
    "sys.path.append(\"../\")"
   ]
  },
  {
   "cell_type": "code",
   "execution_count": null,
   "metadata": {},
   "outputs": [],
   "source": [
    "import os\n",
    "import logging\n",
    "import json\n",
    "import datetime as dt\n",
    "from src.election_fetcher import ElectionsFetcher\n",
    "from src.utils import CloudStorageClient\n"
   ]
  },
  {
   "cell_type": "code",
   "execution_count": null,
   "metadata": {},
   "outputs": [],
   "source": [
    "# Constants"
   ]
  },
  {
   "cell_type": "code",
   "execution_count": null,
   "metadata": {},
   "outputs": [],
   "source": [
    "GOOGLE_APPLICATION_CREDENTIALS = os.environ[\"GOOGLE_APPLICATION_CREDENTIALS\"]\n",
    "TODAY = dt.datetime.now()"
   ]
  },
  {
   "cell_type": "code",
   "execution_count": null,
   "metadata": {},
   "outputs": [],
   "source": [
    "get_elections = ElectionsFetcher()"
   ]
  },
  {
   "cell_type": "code",
   "execution_count": null,
   "metadata": {},
   "outputs": [],
   "source": [
    "#get_elections._api_key = 'bogus'"
   ]
  },
  {
   "cell_type": "code",
   "execution_count": null,
   "metadata": {},
   "outputs": [],
   "source": [
    "data = get_elections.fetch_elections()"
   ]
  },
  {
   "cell_type": "code",
   "execution_count": null,
   "metadata": {},
   "outputs": [],
   "source": [
    "path = \"/tmp/\"\n",
    "if not os.path.exists(path):\n",
    "    os.mkdir(path)"
   ]
  },
  {
   "cell_type": "code",
   "execution_count": null,
   "metadata": {},
   "outputs": [],
   "source": [
    "filepath = path + 'data.json'\n",
    "if data: \n",
    "    #store as temp file\n",
    "    try: \n",
    "        with open(filepath, 'w', encoding='utf-8') as file:\n",
    "            json.dump(data, file, ensure_ascii=False, indent=4)\n",
    "        logging.info(f\"Data saved to '{filepath}''\")\n",
    "    except Exception as e: \n",
    "        logging.error(e)"
   ]
  },
  {
   "cell_type": "code",
   "execution_count": null,
   "metadata": {},
   "outputs": [],
   "source": [
    "client = CloudStorageClient()\n",
    "bucket_name = \"current_elections\"\n",
    " #load temp file to gcp as \"current_elections.json\"\n",
    "client.upload_file(filepath, bucket_name, blob_name='current_elections.json')\n",
    " #load temp file to gcp by date\n",
    "client.upload_file(filepath, bucket_name, blob_name=f'{TODAY}.json')"
   ]
  },
  {
   "cell_type": "code",
   "execution_count": 3,
   "metadata": {},
   "outputs": [
    {
     "name": "stdout",
     "output_type": "stream",
     "text": [
      "{'kind': 'civicinfo#electionsQueryResponse', 'elections': [{'id': '2000', 'name': 'VIP Test Election', 'electionDay': '2021-06-06', 'ocdDivisionId': 'ocd-division/country:us'}, {'id': '4896', 'name': 'Wisconsin State Primary Election', 'electionDay': '2020-02-18', 'ocdDivisionId': 'ocd-division/country:us/state:wi'}, {'id': '4897', 'name': 'South Carolina Presidential Primary', 'electionDay': '2020-02-29', 'ocdDivisionId': 'ocd-division/country:us/state:sc'}, {'id': '4898', 'name': 'Alabama Presidential and State Primary Election', 'electionDay': '2020-03-03', 'ocdDivisionId': 'ocd-division/country:us/state:al'}, {'id': '4899', 'name': 'Arkansas Presidential Primary Election', 'electionDay': '2020-03-03', 'ocdDivisionId': 'ocd-division/country:us/state:ar'}, {'id': '4900', 'name': 'California Presidential Primary Election', 'electionDay': '2020-03-03', 'ocdDivisionId': 'ocd-division/country:us/state:ca'}, {'id': '4901', 'name': 'Colorado Presidential Primary Election', 'electionDay': '2020-03-03', 'ocdDivisionId': 'ocd-division/country:us/state:co'}, {'id': '4904', 'name': 'Minnesota Presidential Primary Election', 'electionDay': '2020-03-03', 'ocdDivisionId': 'ocd-division/country:us/state:mn'}, {'id': '4907', 'name': 'North Carolina Presidential and State Primary Election', 'electionDay': '2020-03-03', 'ocdDivisionId': 'ocd-division/country:us/state:nc'}, {'id': '4908', 'name': 'Oklahoma Presidential Primary Election', 'electionDay': '2020-03-03', 'ocdDivisionId': 'ocd-division/country:us/state:ok'}, {'id': '4910', 'name': 'Utah Presidential Primary Election', 'electionDay': '2020-03-03', 'ocdDivisionId': 'ocd-division/country:us/state:ut'}, {'id': '4912', 'name': 'Vermont Presidential Primary Election', 'electionDay': '2020-03-03', 'ocdDivisionId': 'ocd-division/country:us/state:vt'}, {'id': '4914', 'name': 'Michigan Presidential Primary Election', 'electionDay': '2020-03-10', 'ocdDivisionId': 'ocd-division/country:us/state:mi'}, {'id': '4924', 'name': 'Illinois Presidential and State Primary Election', 'electionDay': '2020-03-17', 'ocdDivisionId': 'ocd-division/country:us/state:il'}, {'id': '4930', 'name': 'Louisiana Presidential Primary Election', 'electionDay': '2020-04-04', 'ocdDivisionId': 'ocd-division/country:us/state:la'}, {'id': '4939', 'name': 'Rhode Island House District 56 Special Election', 'electionDay': '2020-03-03', 'ocdDivisionId': 'ocd-division/country:us/state:ri'}, {'id': '4980', 'name': 'Rhode Island Providence Ward 1 Special Election', 'electionDay': '2020-04-07', 'ocdDivisionId': 'ocd-division/country:us/state:ri'}, {'id': '4981', 'name': 'Rhode Island Providence Ward 1 Special Primary Election', 'electionDay': '2020-03-03', 'ocdDivisionId': 'ocd-division/country:us/state:ri'}]}\n"
     ]
    }
   ],
   "source": [
    "# Test main\n",
    "from main import run_current_elections\n",
    "run_current_elections()"
   ]
  },
  {
   "cell_type": "code",
   "execution_count": null,
   "metadata": {},
   "outputs": [],
   "source": []
  }
 ],
 "metadata": {
  "kernelspec": {
   "display_name": "Python 3",
   "language": "python",
   "name": "python3"
  },
  "language_info": {
   "codemirror_mode": {
    "name": "ipython",
    "version": 3
   },
   "file_extension": ".py",
   "mimetype": "text/x-python",
   "name": "python",
   "nbconvert_exporter": "python",
   "pygments_lexer": "ipython3",
   "version": "3.7.3"
  }
 },
 "nbformat": 4,
 "nbformat_minor": 4
}
