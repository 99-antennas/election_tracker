{
 "cells": [
  {
   "cell_type": "markdown",
   "metadata": {},
   "source": [
    "**Quick notebook to reverse geocode adddresses for all U.S. counties (fips as of 2015)**\n",
    "Note: Since this is purely to get a geographic centroid for address identification and U.S. Census updates to county fips codes involved mostly name changes as opposed to geographic changes, ok to use old data."
   ]
  },
  {
   "cell_type": "code",
   "execution_count": 1,
   "metadata": {},
   "outputs": [],
   "source": [
    "#re-imports modules that have changed\n",
    "%load_ext autoreload\n",
    "%autoreload 2"
   ]
  },
  {
   "cell_type": "code",
   "execution_count": 2,
   "metadata": {},
   "outputs": [],
   "source": [
    "import sys\n",
    "sys.path.append(\"../\")"
   ]
  },
  {
   "cell_type": "code",
   "execution_count": 3,
   "metadata": {},
   "outputs": [],
   "source": [
    "import os\n",
    "import logging\n",
    "import pandas as pd\n",
    "import requests\n",
    "import tqdm\n",
    "import time\n",
    "from src.candidate_fetcher import ReverseGeocode, VoterInfo \n",
    "from src.utils import CloudStorageClient \n"
   ]
  },
  {
   "cell_type": "code",
   "execution_count": 4,
   "metadata": {},
   "outputs": [],
   "source": [
    "logging.basicConfig(level=\"INFO\")"
   ]
  },
  {
   "cell_type": "code",
   "execution_count": 5,
   "metadata": {},
   "outputs": [],
   "source": [
    "def check_result(response): \n",
    "    civic = VoterInfo()\n",
    "    try:  \n",
    "        result = civic.fetch_voter_info(address)\n",
    "        if result['pollingLocations']: \n",
    "            return address\n",
    "        else: \n",
    "            return 0\n",
    "    except Exception as e:\n",
    "        return \"error\""
   ]
  },
  {
   "cell_type": "code",
   "execution_count": 6,
   "metadata": {},
   "outputs": [],
   "source": [
    "# Load data\n",
    "filepath = \"../data/Gaz_counties_national.txt\"\n",
    "data = pd.read_csv(filepath, encoding=\"latin-1\", sep='\\t')"
   ]
  },
  {
   "cell_type": "code",
   "execution_count": 7,
   "metadata": {},
   "outputs": [],
   "source": [
    "# Process data\n",
    "data.columns = data.columns.str.strip()\n",
    "data['GEOID'] = data['GEOID'].astype(str).str.zfill(5)\n",
    "data = data[['USPS', 'GEOID', 'NAME', 'INTPTLAT', 'INTPTLONG']].copy()\n",
    "data.columns = ['state_abbr', 'fips', 'name', 'lat', 'long']"
   ]
  },
  {
   "cell_type": "code",
   "execution_count": 10,
   "metadata": {},
   "outputs": [],
   "source": [
    "# Get formatted addresses\n",
    "geo=ReverseGeocode()\n",
    "data['addresses'] = None\n",
    "for index, row in data.iterrows():\n",
    "    try: \n",
    "        formats = []\n",
    "        lat = row['lat']\n",
    "        long = row['long']\n",
    "        response = geo.reverse_geocode(lat, long)\n",
    "        for item in response['results']: \n",
    "            address = item['formatted_address']\n",
    "            formats.append(address)\n",
    "        data.at[index, 'addresses'] = formats\n",
    "    except Exception as e: \n",
    "        data.at[index, 'addresses'] = []"
   ]
  },
  {
   "cell_type": "code",
   "execution_count": 11,
   "metadata": {},
   "outputs": [],
   "source": [
    "# Set addresses - Take 1st address - most likely, but preserve others\n",
    "data['address'] = None\n",
    "for index, row in data.iterrows():\n",
    "    addresses = row['addresses']\n",
    "    try:\n",
    "        data.at[index, 'address'] = addresses[0]\n",
    "    except Exception as e: \n",
    "        data.at[index, 'address'] = None"
   ]
  },
  {
   "cell_type": "code",
   "execution_count": 12,
   "metadata": {},
   "outputs": [
    {
     "name": "stderr",
     "output_type": "stream",
     "text": [
      "INFO:root:Number of unnamed roads: 362\n",
      "INFO:root:Number of unnamed roads remaining: 313\n"
     ]
    }
   ],
   "source": [
    "# Identify Unnamed roads for future cleanup\n",
    "# Note adding a more standard address does not appear to affect the results \n",
    "# Tested: 'Unnamed Road, Loxley, AL 36551, USA' vs '23130 McAuliffe Drive, Robertsdale, AL 36576' with election id '4898'\n",
    "    \n",
    "unnamed_road=data.loc[data['address'].str.contains('Unnamed Road', na=False)]\n",
    "logging.info(f\"Number of unnamed roads: {len(unnamed_road)}\")\n",
    "\n",
    "# Clean Unnamed roads where 2nd formatted address is valid four-part address\n",
    "for index, row in unnamed_road.iterrows(): \n",
    "    addresses = row['addresses']\n",
    "    address = addresses[1]\n",
    "    split = address.split(\",\")\n",
    "    if len(split) == 4: \n",
    "        data.at[index, 'address'] = address\n",
    "    else: \n",
    "        pass\n",
    "    \n",
    "#Output remaining Unnamed roads to .cvs  \n",
    "unnamed_road=data.loc[data['address'].str.contains('Unnamed Road', na=False)]\n",
    "logging.info(f\"Number of unnamed roads remaining: {len(unnamed_road)}\")\n",
    "unnamed_road.to_csv(\"../output/unnamed_road.csv\", index=False, encoding='utf-8')"
   ]
  },
  {
   "cell_type": "code",
   "execution_count": 13,
   "metadata": {},
   "outputs": [
    {
     "name": "stderr",
     "output_type": "stream",
     "text": [
      "3221it [1:11:00,  1.32s/it]\n"
     ]
    }
   ],
   "source": [
    "# Check that address is valid for Civic Info API \n",
    "data['result'] = None\n",
    "for index, row in tqdm.tqdm(data.iterrows()):\n",
    "    try:\n",
    "        civic = VoterInfo()\n",
    "        result =  civic.fetch_voter_info(address, election_id=None)\n",
    "        data.at[index, 'result'] = result\n",
    "        time.sleep(1)\n",
    "    except Exception as e: \n",
    "        data.at[index, 'result'] = {'Failed': e}"
   ]
  },
  {
   "cell_type": "code",
   "execution_count": 15,
   "metadata": {},
   "outputs": [],
   "source": [
    "filepath = '../output/locales_county.csv'\n",
    "data.to_csv(filepath, encoding='utf-8', index=False)"
   ]
  },
  {
   "cell_type": "code",
   "execution_count": 16,
   "metadata": {},
   "outputs": [
    {
     "name": "stderr",
     "output_type": "stream",
     "text": [
      "INFO:root:Connected to Google Cloud Storage.\n",
      "INFO:root:Loaded file ../output/locales_county.csv to addresses_county.csv\n"
     ]
    }
   ],
   "source": [
    "client = CloudStorageClient()\n",
    "client.upload_file(filepath, 'address_locales', 'addresses_county.csv')"
   ]
  },
  {
   "cell_type": "code",
   "execution_count": 17,
   "metadata": {},
   "outputs": [
    {
     "name": "stderr",
     "output_type": "stream",
     "text": [
      "INFO:root:Address information retrieved for 3221 counties.\n"
     ]
    }
   ],
   "source": [
    "logging.info(f\"Address information retrieved for {len(data)} counties.\")"
   ]
  },
  {
   "cell_type": "code",
   "execution_count": null,
   "metadata": {},
   "outputs": [],
   "source": []
  }
 ],
 "metadata": {
  "kernelspec": {
   "display_name": "Python 3",
   "language": "python",
   "name": "python3"
  },
  "language_info": {
   "codemirror_mode": {
    "name": "ipython",
    "version": 3
   },
   "file_extension": ".py",
   "mimetype": "text/x-python",
   "name": "python",
   "nbconvert_exporter": "python",
   "pygments_lexer": "ipython3",
   "version": "3.7.3"
  }
 },
 "nbformat": 4,
 "nbformat_minor": 4
}
