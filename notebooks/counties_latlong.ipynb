{
 "cells": [
  {
   "cell_type": "markdown",
   "metadata": {},
   "source": [
    "**Quick notebook to reverse geocode adddresses for all U.S. counties (fips as of 2015)**\n",
    "Note: Since this is purely to get a geographic centroid for address identification and U.S. Census updates to county fips codes involved mostly name changes as opposed to geographic changes, ok to use old data."
   ]
  },
  {
   "cell_type": "code",
   "execution_count": 1,
   "metadata": {},
   "outputs": [],
   "source": [
    "#re-imports modules that have changed\n",
    "%load_ext autoreload\n",
    "%autoreload 2"
   ]
  },
  {
   "cell_type": "code",
   "execution_count": 2,
   "metadata": {},
   "outputs": [],
   "source": [
    "import sys\n",
    "sys.path.append(\"../\")"
   ]
  },
  {
   "cell_type": "code",
   "execution_count": 37,
   "metadata": {},
   "outputs": [],
   "source": [
    "import os\n",
    "import logging\n",
    "import pandas as pd\n",
    "import requests\n"
   ]
  },
  {
   "cell_type": "code",
   "execution_count": 26,
   "metadata": {},
   "outputs": [],
   "source": []
  },
  {
   "cell_type": "code",
   "execution_count": 27,
   "metadata": {},
   "outputs": [],
   "source": [
    "# Load data\n",
    "filepath = \"../data/Gaz_counties_national.txt\"\n",
    "data = pd.read_csv(filepath, encoding=\"latin-1\", sep='\\t')"
   ]
  },
  {
   "cell_type": "code",
   "execution_count": 28,
   "metadata": {},
   "outputs": [],
   "source": [
    "# Process data\n",
    "data.columns = data.columns.str.strip()\n",
    "data['GEOID'] = data['GEOID'].astype(str).str.zfill(5)\n",
    "data = data[['USPS', 'GEOID', 'NAME', 'INTPTLAT', 'INTPTLONG']].copy()\n",
    "data.columns = ['state_abbr', 'fips', 'name', 'lat', 'long']"
   ]
  },
  {
   "cell_type": "code",
   "execution_count": 50,
   "metadata": {},
   "outputs": [],
   "source": [
    "geo=ReverseGeocode()\n",
    "addresses = []\n",
    "for index, row in data[0:3].iterrows():\n",
    "    formats = []\n",
    "    lat = row['lat']\n",
    "    long = row['long']\n",
    "    response = geo.reverse_geocode(lat, long)\n",
    "    for item in response['results']: \n",
    "        address = item['formatted_address']\n",
    "        formats.append(address)\n",
    "    addresses.append(formats)"
   ]
  },
  {
   "cell_type": "code",
   "execution_count": 40,
   "metadata": {},
   "outputs": [],
   "source": [
    "class ReverseGeocode(): \n",
    "    \"\"\"\n",
    "    Fetchs a address and geocoding data from Google Geocoding API. \n",
    "    https://developers.google.com/maps/documentation/geocoding/intro#ReverseGeocoding \n",
    "    https://maps.googleapis.com/maps/api/geocode/json?latlng=40.714224,-73.961452&key=YOUR_API_KEY\n",
    "    Takes the lat, long as geo points.\n",
    "    Returns the response as a json object.\n",
    "    \"\"\"\n",
    "    \n",
    "    def __init__(self):\n",
    "        self._url = \"https://maps.googleapis.com/maps/api/geocode/json?\"\n",
    "        self._api_key = os.environ['GOOGLE_GEOCODING_API_KEY']\n",
    "    \n",
    "    def reverse_geocode(self, lat, long):\n",
    "        \"\"\"\n",
    "        Make a call to the api to return election info\n",
    "        \"\"\"\n",
    "        payload = {\n",
    "            \"latlng\": f\"{lat},{long}\",\n",
    "            \"key\": self._api_key\n",
    "        } \n",
    "        response = requests.get(self._url, params=payload)\n",
    "        try: \n",
    "            response.raise_for_status() \n",
    "            return response.json()\n",
    "        except requests.exceptions.HTTPError as error:\n",
    "            # Error in request \n",
    "            logging.error(error)\n",
    "        except requests.exceptions.RequestException as error:\n",
    "            # Catastrophic error \n",
    "            logging.error(error)\n",
    "            raise"
   ]
  },
  {
   "cell_type": "code",
   "execution_count": 51,
   "metadata": {},
   "outputs": [
    {
     "data": {
      "text/plain": [
       "[['889 Love Ln, Prattville, AL 36067, USA',\n",
       "  '887 W D Dr, Prattville, AL 36067, USA',\n",
       "  '889 Love Ln, Prattville, AL 36067, USA',\n",
       "  'Love Ln, Prattville, AL 36067, USA',\n",
       "  'Prattville, AL 36067, USA',\n",
       "  'Autauga County, AL, USA',\n",
       "  'Alabama, USA',\n",
       "  'United States'],\n",
       " ['Unnamed Road, Loxley, AL 36551, USA',\n",
       "  'Loxley, AL 36551, USA',\n",
       "  'Baldwin County, AL, USA',\n",
       "  'Alabama, USA',\n",
       "  'United States'],\n",
       " ['94 Stevens Rd, Clayton, AL 36016, USA',\n",
       "  'Saw Mill Rd, Clayton, AL 36016, USA',\n",
       "  'Clayton, AL 36016, USA',\n",
       "  'Barbour County, AL, USA',\n",
       "  'Alabama, USA',\n",
       "  'United States']]"
      ]
     },
     "execution_count": 51,
     "metadata": {},
     "output_type": "execute_result"
    }
   ],
   "source": [
    "addresses"
   ]
  },
  {
   "cell_type": "code",
   "execution_count": 41,
   "metadata": {},
   "outputs": [],
   "source": []
  },
  {
   "cell_type": "code",
   "execution_count": 42,
   "metadata": {},
   "outputs": [],
   "source": [
    "response = geo.reverse_geocode(lat, long)"
   ]
  },
  {
   "cell_type": "code",
   "execution_count": 46,
   "metadata": {},
   "outputs": [
    {
     "data": {
      "text/plain": [
       "5"
      ]
     },
     "execution_count": 46,
     "metadata": {},
     "output_type": "execute_result"
    }
   ],
   "source": [
    "len(response['results'])"
   ]
  },
  {
   "cell_type": "code",
   "execution_count": 47,
   "metadata": {},
   "outputs": [
    {
     "data": {
      "text/plain": [
       "{'address_components': [{'long_name': 'Unnamed Road',\n",
       "   'short_name': 'Unnamed Road',\n",
       "   'types': ['route']},\n",
       "  {'long_name': 'Yauco',\n",
       "   'short_name': 'Yauco',\n",
       "   'types': ['locality', 'political']},\n",
       "  {'long_name': 'Algarrobo',\n",
       "   'short_name': 'Algarrobo',\n",
       "   'types': ['administrative_area_level_2', 'political']},\n",
       "  {'long_name': 'Yauco',\n",
       "   'short_name': 'Yauco',\n",
       "   'types': ['administrative_area_level_1', 'political']},\n",
       "  {'long_name': 'Puerto Rico',\n",
       "   'short_name': 'PR',\n",
       "   'types': ['country', 'political']},\n",
       "  {'long_name': '00698', 'short_name': '00698', 'types': ['postal_code']}],\n",
       " 'formatted_address': 'Unnamed Road, Yauco, 00698, Puerto Rico',\n",
       " 'geometry': {'bounds': {'northeast': {'lat': 18.0857539, 'lng': -66.858121},\n",
       "   'southwest': {'lat': 18.08351, 'lng': -66.86131739999999}},\n",
       "  'location': {'lat': 18.0841117, 'lng': -66.8599356},\n",
       "  'location_type': 'GEOMETRIC_CENTER',\n",
       "  'viewport': {'northeast': {'lat': 18.0859809302915, 'lng': -66.858121},\n",
       "   'southwest': {'lat': 18.0832829697085, 'lng': -66.86131739999999}}},\n",
       " 'place_id': 'ChIJJdceKyEzHYwRRojpnnCB4J8',\n",
       " 'types': ['route']}"
      ]
     },
     "execution_count": 47,
     "metadata": {},
     "output_type": "execute_result"
    }
   ],
   "source": [
    "response['results'][0]"
   ]
  },
  {
   "cell_type": "code",
   "execution_count": 49,
   "metadata": {},
   "outputs": [
    {
     "name": "stdout",
     "output_type": "stream",
     "text": [
      "Unnamed Road, Yauco, 00698, Puerto Rico\n",
      "Algarrobo, Yauco 00698, Puerto Rico\n",
      "Yauco, 00698, Puerto Rico\n",
      "Yauco, Puerto Rico\n",
      "Puerto Rico\n"
     ]
    }
   ],
   "source": [
    "for item in response['results']: \n",
    "    address = item['formatted_address']\n",
    "    print(address)"
   ]
  },
  {
   "cell_type": "code",
   "execution_count": null,
   "metadata": {},
   "outputs": [],
   "source": []
  }
 ],
 "metadata": {
  "kernelspec": {
   "display_name": "Python 3",
   "language": "python",
   "name": "python3"
  },
  "language_info": {
   "codemirror_mode": {
    "name": "ipython",
    "version": 3
   },
   "file_extension": ".py",
   "mimetype": "text/x-python",
   "name": "python",
   "nbconvert_exporter": "python",
   "pygments_lexer": "ipython3",
   "version": "3.7.3"
  }
 },
 "nbformat": 4,
 "nbformat_minor": 4
}
