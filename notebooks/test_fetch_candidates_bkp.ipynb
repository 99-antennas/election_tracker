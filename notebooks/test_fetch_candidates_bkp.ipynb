{
 "cells": [
  {
   "cell_type": "code",
   "execution_count": 1,
   "metadata": {},
   "outputs": [],
   "source": [
    "#re-imports modules that have changed\n",
    "%load_ext autoreload\n",
    "%autoreload 2"
   ]
  },
  {
   "cell_type": "code",
   "execution_count": 2,
   "metadata": {},
   "outputs": [],
   "source": [
    "import sys\n",
    "sys.path.append(\"../\")"
   ]
  },
  {
   "cell_type": "code",
   "execution_count": 3,
   "metadata": {},
   "outputs": [],
   "source": [
    "import os\n",
    "import logging\n",
    "import json\n",
    "import datetime as dt\n",
    "import time\n",
    "import pandas as pd\n",
    "from src.candidate_fetcher import VoterInfo\n",
    "from src.utils_cloud_storage import CloudStorageClient"
   ]
  },
  {
   "cell_type": "code",
   "execution_count": 4,
   "metadata": {},
   "outputs": [],
   "source": [
    "logging.basicConfig(level=\"INFO\")"
   ]
  },
  {
   "cell_type": "code",
   "execution_count": 5,
   "metadata": {},
   "outputs": [],
   "source": [
    "# Constants"
   ]
  },
  {
   "cell_type": "code",
   "execution_count": 6,
   "metadata": {},
   "outputs": [],
   "source": [
    "# retrieve county level address data and set fips code as the identifer "
   ]
  },
  {
   "cell_type": "code",
   "execution_count": 7,
   "metadata": {},
   "outputs": [],
   "source": [
    "def run_voter_info(): \n",
    "    \n",
    "    \"\"\"\n",
    "    FAILED - 500 - no explanation - FULL PROCESS\n",
    "    Cloud function to run job to fetch voter information data for current elections\n",
    "    from Google Civic Information API.\n",
    "    Retrieves county level data and sets the fips code as the identifier (`geo_id`)\n",
    "    Stores data in a cloud storage bucket as a json file.\n",
    "    \"\"\"\n",
    "    \n",
    "    # Job status\n",
    "    logging.info(\"Starting job fetch voter information\")\n",
    "    #logging.info(\"\"\"Trigger: messageId {} published at {}\"\"\".format(context.event_id, context.timestamp))\n",
    "    \n",
    "    # Initiate job\n",
    "    civic = VoterInfo() \n",
    "    \n",
    "    # Load elections, address data\n",
    "    logging.info(\"Load list of current elections.\")\n",
    "    elections = civic.load_current_elections(\"current_elections\",  \"current_elections.json\")\n",
    "    \n",
    "    logging.info(\"Load addreses by locale\")\n",
    "    locales = civic.load_address_locales(\"address_locales\",  \"addresses_county.csv\")\n",
    "    \n",
    "    # Retrieve Voter information data\n",
    "    for election in elections[0:2]:\n",
    "        election_id = election['id']\n",
    "        election_name = election['name']\n",
    "        election_ocdid = election['ocdDivisionId']\n",
    "        \n",
    "        # Get state abbr from OCDid\n",
    "        election_ocdid = election_ocdid.split(\"/\")[-1].split(\":\")[-1].upper()\n",
    "\n",
    "        logging.debug(f\"election_id: {election_id}\")\n",
    "        logging.debug(f\"election_ocdid: {election_ocdid}\")\n",
    "        logging.debug(f\"election_name: {election_name}\")\n",
    "        \n",
    "        # Subset data by OCDid\n",
    "        # Except test election \n",
    "        if election_name == 'VIP Test Election': \n",
    "            continue\n",
    "        # If election is national, return data for all records\n",
    "        elif election_ocdid == 'US':\n",
    "            active = locales.copy()\n",
    "        # If election is statewide, return data for all records in state. \n",
    "        else: \n",
    "            active = locales.loc[locales['state_abbr'] == election_ocdid, :].copy()\n",
    "        # Ensure active elections not null\n",
    "        try: \n",
    "            assert(active.empty == False)\n",
    "        except Exception as e: \n",
    "            logging.error(\"Unable to subset data by OCDid.\")\n",
    "    \n",
    "            # Get voter information for election\n",
    "        try: \n",
    "            logging.info(f\"Start election: {election_id}:{election_ocdid}\") \n",
    "            for index, row in active.iterrows():\n",
    "                address = row['address']\n",
    "                geo_id = row[\"fips\"]\n",
    "                response = civic.fetch_voter_info(address, election_id)\n",
    "                response['geoid'] = {\"fips\":geo_id}\n",
    "                civic.save_voter_info(geo_id, response, bucket_name=\"current_contests\")\n",
    "                time.sleep(1)\n",
    "            logging.debug(f\"Completed election: {election_id}:{election_ocdid}\")\n",
    "        except Exception as error: \n",
    "            logging.error(f\"Failed to retrieve data for {election_id}:{election_ocdid}\")\n",
    "            logging.error(error)\n",
    "\n",
    "    \n",
    "    # Job status\n",
    "    logging.info(\"Completed job fetch voter info.\")"
   ]
  },
  {
   "cell_type": "code",
   "execution_count": 8,
   "metadata": {},
   "outputs": [],
   "source": [
    "#run_voter_info()"
   ]
  },
  {
   "cell_type": "code",
   "execution_count": 9,
   "metadata": {},
   "outputs": [],
   "source": [
    "#len(active)"
   ]
  },
  {
   "cell_type": "code",
   "execution_count": 10,
   "metadata": {},
   "outputs": [],
   "source": [
    "#election_id"
   ]
  },
  {
   "cell_type": "code",
   "execution_count": 11,
   "metadata": {},
   "outputs": [],
   "source": [
    "#active.head(3)"
   ]
  },
  {
   "cell_type": "code",
   "execution_count": 12,
   "metadata": {},
   "outputs": [
    {
     "name": "stderr",
     "output_type": "stream",
     "text": [
      "INFO:root:Load list of current elections.\n",
      "INFO:root:Successfully loaded current elections data.\n"
     ]
    }
   ],
   "source": [
    "# Initiate job\n",
    "civic = VoterInfo() \n",
    "    \n",
    "# Load elections, address data\n",
    "logging.info(\"Load list of current elections.\")\n",
    "elections = civic.load_current_elections(\"current_elections\",  \"current_elections.json\")"
   ]
  },
  {
   "cell_type": "code",
   "execution_count": 13,
   "metadata": {},
   "outputs": [
    {
     "name": "stdout",
     "output_type": "stream",
     "text": [
      "17\n"
     ]
    },
    {
     "data": {
      "text/plain": [
       "{'id': '4897',\n",
       " 'name': 'South Carolina Presidential Primary',\n",
       " 'electionDay': '2020-02-29',\n",
       " 'ocdDivisionId': 'ocd-division/country:us/state:sc'}"
      ]
     },
     "execution_count": 13,
     "metadata": {},
     "output_type": "execute_result"
    }
   ],
   "source": [
    "print(len(elections))\n",
    "election = elections[1]\n",
    "election"
   ]
  },
  {
   "cell_type": "code",
   "execution_count": 100,
   "metadata": {},
   "outputs": [],
   "source": [
    "event = election\n"
   ]
  },
  {
   "cell_type": "code",
   "execution_count": 70,
   "metadata": {},
   "outputs": [],
   "source": [
    "def publish_active_elections(context, event):\n",
    "    \"\"\"\n",
    "    Publishes elections to Pub/Sub topic with an error handler.\n",
    "    Data included in attributes of messsage: \n",
    "            - election_id=election['id'],\n",
    "            - name=election['name'], \n",
    "            - electionDay=election['electionDay'],\n",
    "            - ocdDivisionId=election['ocdDivisionId']\n",
    "    \n",
    "    \"\"\"\n",
    "    def get_callback(f, data):\n",
    "        def callback(f):\n",
    "            try:\n",
    "                logging.info(f.result())\n",
    "                futures.pop(data)\n",
    "            except:  # noqa\n",
    "                logging.info(\"Please handle {} for {}.\".format(f.exception(), data))\n",
    "\n",
    "        return callback\n",
    "    \n",
    "    # Job status\n",
    "    logging.info(\"Starting job to publish elections.\")\n",
    "    #logging.info(\"\"\"Trigger: messageId {} published at {}\"\"\".format(context.event_id, context.timestamp))\n",
    "    \n",
    "    # Initiate job\n",
    "    civic = VoterInfo()\n",
    "    date = dt.datetime.now().date()\n",
    "    \n",
    "    # Load elections data\n",
    "    logging.info(\"Load list of current elections.\")\n",
    "    elections = civic.load_current_elections(\"current_elections\",  \"current_elections.json\")\n",
    "    \n",
    "    project_id = \"election-tracker-268319\"\n",
    "    topic_name = \"active-elections\"\n",
    "\n",
    "    publisher = pubsub_v1.PublisherClient()\n",
    "    topic_path = publisher.topic_path(project_id, topic_name)\n",
    "\n",
    "    futures = dict()\n",
    "    \n",
    "    for election in elections: \n",
    "        # Set message attributes \n",
    "        \n",
    "        data = str(election['id'])\n",
    "        \n",
    "        # When you publish a message, the client returns a future. Data must be a bytestring.\n",
    "        futures.update({data: None})\n",
    "        \n",
    "        future = publisher.publish(\n",
    "            topic_path, \n",
    "            data=data.encode(\"utf-8\"),\n",
    "            election_id=election['id'],\n",
    "            name=election['name'], \n",
    "            electionDay=election['electionDay'],\n",
    "            ocdDivisionId=election['ocdDivisionId']\n",
    "        )\n",
    "                                     \n",
    "        futures[data] = future\n",
    "        # Publish failures shall be handled in the callback function.\n",
    "        future.add_done_callback(get_callback(future, data))\n",
    "\n",
    "    # Wait for all the publish futures to resolve before exiting.\n",
    "    while futures:\n",
    "        time.sleep(5)\n",
    "\n",
    "    print(f\"Published active elections for current elections as of {str(date)}\")\n",
    "    "
   ]
  },
  {
   "cell_type": "code",
   "execution_count": 41,
   "metadata": {},
   "outputs": [
    {
     "name": "stderr",
     "output_type": "stream",
     "text": [
      "INFO:root:Starting job to publish elections.\n",
      "INFO:root:Load list of current elections.\n",
      "INFO:root:Successfully loaded current elections data.\n",
      "INFO:root:443326984175662\n",
      "INFO:root:443326984175663\n",
      "INFO:root:443326984175664\n",
      "INFO:root:443326984175665\n",
      "INFO:root:443326984175666\n",
      "INFO:root:443326984175667\n",
      "INFO:root:443326984175668\n",
      "INFO:root:443326984175669\n",
      "INFO:root:443326984175670\n",
      "INFO:root:443326984175671\n",
      "INFO:root:443326984175672\n",
      "INFO:root:443326984175673\n",
      "INFO:root:443326984175674\n",
      "INFO:root:443326984175675\n",
      "INFO:root:443326984175676\n",
      "INFO:root:443326984175677\n",
      "INFO:root:443326984175678\n"
     ]
    },
    {
     "name": "stdout",
     "output_type": "stream",
     "text": [
      "Published active elections for current elections as of 2020-02-21\n"
     ]
    }
   ],
   "source": [
    "publish_active_elections()"
   ]
  },
  {
   "cell_type": "code",
   "execution_count": 71,
   "metadata": {},
   "outputs": [],
   "source": [
    "import time\n",
    "from google.cloud import pubsub_v1\n",
    "\n",
    "\n",
    "def publish_active_divisions(election):\n",
    "    \"\"\"\n",
    "    Publishes parsed election data by division to a Pub/Sub topic with an error handler.\n",
    "    \n",
    "    For each division associated with an election, message includes: \n",
    "        - election_id=election_id, # As returned by Civic Information API \n",
    "        - address=address, # Address of geo division associated with election parsed from locales data.\n",
    "        - geo_id=geo_id # Fips code or similar geodivision identifier as parsed from locales data\n",
    "        \n",
    "    \"\"\"\n",
    "    \n",
    "    def get_callback(f, data):\n",
    "        def callback(f):\n",
    "            try:\n",
    "                logging.info(f.result())\n",
    "                futures.pop(data)\n",
    "            except:  # noqa\n",
    "                logging.info(\"Please handle {} for {}.\".format(f.exception(), data))\n",
    "\n",
    "        return callback\n",
    "    \n",
    "    # Job status\n",
    "    logging.info(\"Starting job to parse election.\")\n",
    "    #logging.info(\"\"\"Trigger: messageId {} published at {}\"\"\".format(context.event_id, context.timestamp))\n",
    "    \n",
    "    # Initiate job\n",
    "    civic = VoterInfo() \n",
    "    \n",
    "    logging.info(\"Load addreses by locale\")\n",
    "    locales = civic.load_address_locales(\"address_locales\",  \"addresses_county.csv\")\n",
    "    \n",
    "    project_id = \"election-tracker-268319\"\n",
    "    topic_name = \"active-divisions\"\n",
    "\n",
    "    publisher = pubsub_v1.PublisherClient()\n",
    "    topic_path = publisher.topic_path(project_id, topic_name)\n",
    "\n",
    "    futures = dict()\n",
    "    \n",
    "    # Parse election \n",
    "    election_id = election['election_id'] #renamed to avoid conflict\n",
    "    election_name = election['name']\n",
    "    election_ocdid = election['ocdDivisionId']\n",
    "\n",
    "    # Get state abbr from OCDid\n",
    "    election_ocdid = election_ocdid.split(\"/\")[-1].split(\":\")[-1].upper()\n",
    "\n",
    "    logging.debug(f\"election_id: {election_id}\")\n",
    "    logging.debug(f\"election_ocdid: {election_ocdid}\")\n",
    "    logging.debug(f\"election_name: {election_name}\")\n",
    "\n",
    "    # Subset data by OCDid\n",
    "    # Except test election \n",
    "    if election_name == 'VIP Test Election':\n",
    "        logging.debug(\"Election name 'VIP Test Election' excluded.\")\n",
    "        return\n",
    "    # If election is national, return data for all records\n",
    "    elif election_ocdid == 'US':\n",
    "        active = locales.copy()\n",
    "    # If election is statewide, return data for all records in state. \n",
    "    else: \n",
    "        active = locales.loc[locales['state_abbr'] == election_ocdid, :].copy()\n",
    "    # Ensure active elections not null\n",
    "    try: \n",
    "        assert(active.empty == False)\n",
    "    except Exception as e: \n",
    "        logging.error(\"Unable to subset data by OCDid.\")\n",
    "        raise\n",
    "\n",
    "    # publish active division\n",
    "    for index, row in active.iterrows():\n",
    "        data = str(row[\"fips\"])\n",
    "        \n",
    "        futures.update({data: None})\n",
    "\n",
    "        # When you publish a message, the client returns a future. Data must be a bytestring.\n",
    "        future = publisher.publish(\n",
    "            topic_path, \n",
    "            data=data.encode(\"utf-8\"),\n",
    "            election_id=election_id, \n",
    "            address=row['address'], \n",
    "            geo_id=str(row[\"fips\"])\n",
    "        )\n",
    "        futures[data] = future\n",
    "        # Publish failures shall be handled in the callback function.\n",
    "        future.add_done_callback(get_callback(future, data))\n",
    "\n",
    "    # Wait for all the publish futures to resolve before exiting.\n",
    "    while futures:\n",
    "        time.sleep(5)\n",
    "\n",
    "    logging.info(f\"Published active divisions for election {election_id}\")"
   ]
  },
  {
   "cell_type": "raw",
   "metadata": {},
   "source": [
    "from google.cloud import pubsub\n",
    "subscriber = pubsub.SubscriberClient()\n",
    "# Substitute PROJECT, SUBSCRIPTION, and TOPIC with appropriate values for\n",
    "# your application.\n",
    "\n",
    "\n",
    "sub_path = subscriber.subscription_path(\"election-tracker-268319\", 'test_elections')\n",
    "topic_path = subscriber.topic_path(\"election-tracker-268319\", 'active-elections')\n",
    "subscriber.create_subscription(sub_path, topic_path)"
   ]
  },
  {
   "cell_type": "code",
   "execution_count": 72,
   "metadata": {},
   "outputs": [
    {
     "name": "stdout",
     "output_type": "stream",
     "text": [
      "Received message: b'4912'\n",
      "Received message: b'4914'\n",
      "Received message: b'4924'\n",
      "Received message: b'4930'\n",
      "Received message: b'4939'\n"
     ]
    }
   ],
   "source": [
    "# Substitute PROJECT and SUBSCRIPTION with appropriate values for your\n",
    "# application.\n",
    "subscription_path = subscriber.subscription_path(\"election-tracker-268319\", 'test_elections')\n",
    "response = subscriber.pull(subscription_path, max_messages=5)\n",
    "\n",
    "for msg in response.received_messages:\n",
    "    print(\"Received message:\", msg.message.data)\n",
    "\n",
    "ack_ids = [msg.ack_id for msg in response.received_messages]\n",
    "subscriber.acknowledge(subscription_path, ack_ids)"
   ]
  },
  {
   "cell_type": "code",
   "execution_count": 74,
   "metadata": {},
   "outputs": [
    {
     "data": {
      "text/plain": [
       "{'election_id': '4939', 'name': 'Rhode Island House District 56 Special Election', 'electionDay': '2020-03-03', 'ocdDivisionId': 'ocd-division/country:us/state:ri'}"
      ]
     },
     "execution_count": 74,
     "metadata": {},
     "output_type": "execute_result"
    }
   ],
   "source": [
    "election = msg.message.attributes\n",
    "election"
   ]
  },
  {
   "cell_type": "code",
   "execution_count": 75,
   "metadata": {},
   "outputs": [
    {
     "name": "stderr",
     "output_type": "stream",
     "text": [
      "INFO:root:Starting job to parse election.\n",
      "INFO:root:Load addreses by locale\n",
      "INFO:root:Successfully loaded address lookup data.\n",
      "INFO:root:443327314103440\n",
      "INFO:root:443327314103441\n",
      "INFO:root:443327314103442\n",
      "INFO:root:443327314103443\n",
      "INFO:root:443327314103444\n",
      "INFO:root:Published active divisions for election 4939\n"
     ]
    }
   ],
   "source": [
    "publish_active_divisions(election)"
   ]
  },
  {
   "cell_type": "raw",
   "metadata": {},
   "source": [
    "from google.cloud import pubsub\n",
    "subscriber = pubsub.SubscriberClient()\n",
    "# Substitute PROJECT, SUBSCRIPTION, and TOPIC with appropriate values for\n",
    "# your application.\n",
    "\n",
    "sub_path = subscriber.subscription_path(\"election-tracker-268319\", 'test_divisions')\n",
    "topic_path = subscriber.topic_path(\"election-tracker-268319\", 'active-divisions')\n",
    "subscriber.create_subscription(sub_path, topic_path)"
   ]
  },
  {
   "cell_type": "code",
   "execution_count": 76,
   "metadata": {},
   "outputs": [
    {
     "name": "stdout",
     "output_type": "stream",
     "text": [
      "Received message: b'44001'\n",
      "Received message: b'44003'\n",
      "Received message: b'44005'\n",
      "Received message: b'44007'\n",
      "Received message: b'44009'\n"
     ]
    }
   ],
   "source": [
    "# Substitute PROJECT and SUBSCRIPTION with appropriate values for your\n",
    "# application.\n",
    "subscription_path = subscriber.subscription_path(\"election-tracker-268319\", 'test_divisions')\n",
    "response = subscriber.pull(subscription_path, max_messages=5)\n",
    "\n",
    "for msg in response.received_messages:\n",
    "    print(\"Received message:\", msg.message.data)\n",
    "\n",
    "ack_ids = [msg.ack_id for msg in response.received_messages]\n",
    "subscriber.acknowledge(subscription_path, ack_ids)"
   ]
  },
  {
   "cell_type": "code",
   "execution_count": 78,
   "metadata": {},
   "outputs": [
    {
     "data": {
      "text/plain": [
       "{'address': '79 Cherokee Bend, Charlestown, RI 02813, USA', 'geo_id': '44009', 'election_id': '4939'}"
      ]
     },
     "execution_count": 78,
     "metadata": {},
     "output_type": "execute_result"
    }
   ],
   "source": [
    "division = msg.message.attributes\n",
    "division"
   ]
  },
  {
   "cell_type": "code",
   "execution_count": 98,
   "metadata": {},
   "outputs": [],
   "source": [
    "# Def fetch election information\n",
    "def run_voter_info(division): \n",
    "    \"\"\"\n",
    "    Retrieves voter information from Google Civic API\n",
    "    Takes: \n",
    "        Data returned from the active-divisons topic message: \n",
    "        - election_id=election_id, # As returned by Civic Information API \n",
    "        - address=address, # Address of geo division associated with election parsed from locales data.\n",
    "        - geo_id=geo_id # Fips code or similar geodivision identifier as parsed from locales data\n",
    "    Makes the API Call \n",
    "    Saves the data to Google Cloud Storage\n",
    "    \"\"\"\n",
    "    address = division['address']\n",
    "    geo_id = division['geo_id']\n",
    "    election_id = division['election_id']\n",
    "    \n",
    "    civic = VoterInfo() \n",
    "    \n",
    "    try: \n",
    "        logging.info(f\"Start VoterInfo call: {election_id}:{geo_id}\") \n",
    "        response = civic.fetch_voter_info(address, election_id)\n",
    "        response['geoid'] = {\"fips\":geo_id}\n",
    "        civic.save_voter_info(geo_id, response, bucket_name=\"current_contests\")\n",
    "        time.sleep(1)\n",
    "        logging.debug(f\"Completed VoterInfo call.\")\n",
    "    except Exception as error: \n",
    "        logging.error(f\"Failed to retrieve data for {election_id}:{geo_id}\")\n",
    "        logging.error(error)"
   ]
  },
  {
   "cell_type": "code",
   "execution_count": 99,
   "metadata": {},
   "outputs": [
    {
     "name": "stderr",
     "output_type": "stream",
     "text": [
      "INFO:root:Start VoterInfo call: 4939:44009\n",
      "ERROR:root:Successfully saved data for 44009 to: gs://current_contests/44009_2020-02-21.json\n"
     ]
    }
   ],
   "source": [
    "run_voter_info(division)"
   ]
  },
  {
   "cell_type": "code",
   "execution_count": null,
   "metadata": {},
   "outputs": [],
   "source": []
  }
 ],
 "metadata": {
  "kernelspec": {
   "display_name": "Python 3",
   "language": "python",
   "name": "python3"
  },
  "language_info": {
   "codemirror_mode": {
    "name": "ipython",
    "version": 3
   },
   "file_extension": ".py",
   "mimetype": "text/x-python",
   "name": "python",
   "nbconvert_exporter": "python",
   "pygments_lexer": "ipython3",
   "version": "3.7.3"
  }
 },
 "nbformat": 4,
 "nbformat_minor": 4
}
